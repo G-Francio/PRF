{
 "cells": [
  {
   "cell_type": "code",
   "execution_count": 2,
   "metadata": {},
   "outputs": [
    {
     "name": "stdout",
     "output_type": "stream",
     "text": [
      "/storage/home/itamarreis/.conda/envs/peanuts/bin/python\r\n"
     ]
    }
   ],
   "source": [
    "!which python"
   ]
  },
  {
   "cell_type": "markdown",
   "metadata": {},
   "source": [
    "# Noise in the labels"
   ]
  },
  {
   "cell_type": "code",
   "execution_count": 2,
   "metadata": {},
   "outputs": [
    {
     "name": "stdout",
     "output_type": "stream",
     "text": [
      "mkdir: cannot create directory ‘results/paper/noise_in_labels’: File exists\r\n"
     ]
    }
   ],
   "source": [
    "mkdir results/paper/noise_in_labels"
   ]
  },
  {
   "cell_type": "code",
   "execution_count": null,
   "metadata": {
    "collapsed": true
   },
   "outputs": [],
   "source": []
  },
  {
   "cell_type": "code",
   "execution_count": 1,
   "metadata": {},
   "outputs": [],
   "source": [
    "from importlib import reload\n",
    "import numpy\n",
    "import pickle\n",
    "import load_data\n",
    "import noise_data\n",
    "import PRF\n",
    "import sklearn\n",
    "from sklearn.ensemble import RandomForestClassifier"
   ]
  },
  {
   "cell_type": "code",
   "execution_count": 6,
   "metadata": {},
   "outputs": [],
   "source": [
    "from sklearn.datasets import  make_classification\n",
    "nof_objects_tot = 200000\n",
    "nof_features = 15\n",
    "X, y = make_classification(n_samples=nof_objects_tot, n_classes = 2, class_sep=1, shuffle=True, n_features=nof_features, n_informative=10,\n",
    "                           random_state=1, n_clusters_per_class=1, flip_y = 0)\n",
    "dX_orig = numpy.zeros([nof_objects_tot, nof_features])"
   ]
  },
  {
   "cell_type": "code",
   "execution_count": 48,
   "metadata": {},
   "outputs": [
    {
     "data": {
      "text/plain": [
       "488.21969951984187"
      ]
     },
     "execution_count": 48,
     "metadata": {},
     "output_type": "execute_result"
    }
   ],
   "source": []
  },
  {
   "cell_type": "code",
   "execution_count": null,
   "metadata": {},
   "outputs": [],
   "source": []
  },
  {
   "cell_type": "code",
   "execution_count": 13,
   "metadata": {
    "scrolled": true
   },
   "outputs": [
    {
     "name": "stdout",
     "output_type": "stream",
     "text": [
      "n_trees 1 ; noise 0.01 FGO, 0.906 RF 0.801 PRF 0.8592\n",
      "n_trees 1 ; noise 0.1 FGO, 0.8536 RF 0.7644 PRF 0.81\n",
      "n_trees 1 ; noise 0.2 FGO, 0.799 RF 0.6914 PRF 0.7776\n",
      "n_trees 1 ; noise 0.4 FGO, 0.6826 RF 0.6364 PRF 0.7136\n",
      "n_trees 1 ; noise 0.6 FGO, 0.61 RF 0.5642 PRF 0.7328\n",
      "n_trees 1 ; noise 0.8 FGO, 0.5676 RF 0.5476 PRF 0.7214\n",
      "n_trees 1 ; noise 1 FGO, 0.5576 RF 0.5302 PRF 0.7558\n",
      "n_trees 10 ; noise 0.01 FGO, 0.9054 RF 0.9296 PRF 0.9468\n",
      "n_trees 10 ; noise 0.1 FGO, 0.8646 RF 0.9136 PRF 0.942\n",
      "n_trees 10 ; noise 0.2 FGO, 0.8048 RF 0.8768 PRF 0.9334\n",
      "n_trees 10 ; noise 0.4 FGO, 0.6804 RF 0.7612 PRF 0.9134\n",
      "n_trees 10 ; noise 0.6 FGO, 0.6008 RF 0.6624 PRF 0.881\n",
      "n_trees 10 ; noise 0.8 FGO, 0.5614 RF 0.6114 PRF 0.8854\n",
      "n_trees 10 ; noise 1 FGO, 0.5432 RF 0.5664 PRF 0.8818\n",
      "n_trees 25 ; noise 0.01 FGO, 0.9076 RF 0.9544 PRF 0.953\n",
      "n_trees 25 ; noise 0.1 FGO, 0.8576 RF 0.9462 PRF 0.9602\n",
      "n_trees 25 ; noise 0.2 FGO, 0.8054 RF 0.9296 PRF 0.9584\n",
      "n_trees 25 ; noise 0.4 FGO, 0.6866 RF 0.8652 PRF 0.9406\n",
      "n_trees 25 ; noise 0.6 FGO, 0.6002 RF 0.719 PRF 0.9296\n",
      "n_trees 25 ; noise 0.8 FGO, 0.5734 RF 0.6628 PRF 0.9104\n",
      "n_trees 25 ; noise 1 FGO, 0.5478 RF 0.622 PRF 0.9076\n",
      "n_trees 50 ; noise 0.01 FGO, 0.9114 RF 0.9558 PRF 0.9588\n",
      "n_trees 50 ; noise 0.1 FGO, 0.857 RF 0.9564 PRF 0.9568\n",
      "n_trees 50 ; noise 0.2 FGO, 0.806 RF 0.9424 PRF 0.9578\n",
      "n_trees 50 ; noise 0.4 FGO, 0.6836 RF 0.8904 PRF 0.94\n",
      "n_trees 50 ; noise 0.6 FGO, 0.5956 RF 0.7558 PRF 0.9278\n",
      "n_trees 50 ; noise 0.8 FGO, 0.5618 RF 0.6734 PRF 0.9126\n",
      "n_trees 50 ; noise 1 FGO, 0.5522 RF 0.6332 PRF 0.909\n"
     ]
    }
   ],
   "source": [
    "reload(load_data)\n",
    "reload(noise_data)\n",
    "n_features = 'auto'\n",
    "## Train set\n",
    "n_objs = 5000\n",
    "noise_in_labels_train = 0\n",
    "noise_in_features_train = 0\n",
    "obj_inds = numpy.random.choice(numpy.arange(nof_objects_tot), n_objs*2)\n",
    "obj_inds_train = obj_inds[::2]\n",
    "obj_inds_test = obj_inds[1::2]\n",
    "sigma_mat = noise_data.bad_features_per_object_group_noise(nof_objects_tot, nof_features)\n",
    "X_tr, dX_tr, y_tr, pY_tr, _  = load_data.get_noised_data(X[obj_inds_train], \n",
    "                                                             dX_orig[obj_inds_train], \n",
    "                                                             y[obj_inds_train], \n",
    "                                                             sigma_mat[obj_inds_train], \n",
    "                                                             noise_in_labels_train, \n",
    "                                                             noise_in_features_train,\n",
    "                                                             dist = 'normal')\n",
    "\n",
    "X_te, dX_te, y_te, pY_te, _  = load_data.get_noised_data(X[obj_inds_test], \n",
    "                                                             dX_orig[obj_inds_test], \n",
    "                                                             y[obj_inds_test], \n",
    "                                                             sigma_mat[obj_inds_test], \n",
    "                                                             noise_in_labels_train, \n",
    "                                                             noise_in_features_train,\n",
    "                                                             dist = 'normal')\n",
    "\n",
    "\n",
    "noise_in_labels_vec = [0.01,  0.1,  0.2,  0.4,  0.6,  0.8, 1]\n",
    "n_tress_vec = [1, 10, 25, 50]\n",
    "for n_trees in n_tress_vec:\n",
    "    scores_RF = [] \n",
    "    scores_PRF = [] \n",
    "    fgo_vec = []\n",
    "\n",
    "    for noise_in_labels in noise_in_labels_vec:\n",
    "        noise_in_features = 0\n",
    "        X_tr, dX_tr, y_tr, pY_tr, fgo  = load_data.get_noised_data(X[obj_inds_train], \n",
    "                                                                 dX_orig[obj_inds_train], \n",
    "                                                                 y[obj_inds_train], \n",
    "                                                                 sigma_mat[obj_inds_train], \n",
    "                                                                 noise_in_labels, \n",
    "                                                                 noise_in_features,\n",
    "                                                                 dist = 'normal')\n",
    "\n",
    "        X_te, dX_te, y_te, pY_te, _  = load_data.get_noised_data(X[obj_inds_test], \n",
    "                                                                 dX_orig[obj_inds_test], \n",
    "                                                                 y[obj_inds_test], \n",
    "                                                                 sigma_mat[obj_inds_test], \n",
    "                                                                 0, \n",
    "                                                                 noise_in_features,\n",
    "                                                                 dist = 'normal')\n",
    "        fgo_vec += [fgo]\n",
    "        prf = PRF.RandomForestClassifier(n_estimators=n_trees, max_features=n_features,\n",
    "                                                            use_py_gini=True, use_py_leafs=True)\n",
    "        prf.fit(X= X_tr,  y= y_tr, dX= dX_tr, py= pY_tr)\n",
    "        predict, proba = prf.predict(X=X_te, dX=dX_te)\n",
    "        scores_PRF += [(predict == y_te).sum()/len(predict)]\n",
    "\n",
    "\n",
    "        rf_sklean = sklearn.ensemble.RandomForestClassifier(n_estimators=n_trees, max_features=n_features, n_jobs = -1)\n",
    "        rf_sklean.fit(X_tr, y_tr)\n",
    "        score_RF = rf_sklean.score(X_te, y_te)\n",
    "        scores_RF += [score_RF]\n",
    "        print('n_trees', n_trees, '; noise', noise_in_labels, 'FGO,', fgo,'RF', scores_RF[-1], 'PRF', scores_PRF[-1]  )\n",
    "\n",
    "\n",
    "    path = 'results/paper/noise_in_labels/n_trees_' + str(n_trees) \n",
    "    numpy.save(path, [scores_PRF, scores_RF, fgo_vec])"
   ]
  },
  {
   "cell_type": "markdown",
   "metadata": {},
   "source": [
    "# Noise in the features 1: Gaussian RR"
   ]
  },
  {
   "cell_type": "code",
   "execution_count": 16,
   "metadata": {},
   "outputs": [],
   "source": [
    "mkdir results/paper/noise_in_features_RR"
   ]
  },
  {
   "cell_type": "code",
   "execution_count": null,
   "metadata": {
    "collapsed": true
   },
   "outputs": [],
   "source": []
  },
  {
   "cell_type": "code",
   "execution_count": 17,
   "metadata": {},
   "outputs": [],
   "source": [
    "from importlib import reload\n",
    "import numpy\n",
    "import pickle\n",
    "import load_data\n",
    "import noise_data\n",
    "import PRF\n",
    "import sklearn\n",
    "from sklearn.ensemble import RandomForestClassifier"
   ]
  },
  {
   "cell_type": "code",
   "execution_count": 18,
   "metadata": {},
   "outputs": [],
   "source": [
    "from sklearn.datasets import  make_classification\n",
    "nof_objects_tot = 200000\n",
    "nof_features = 15\n",
    "X, y = make_classification(n_samples=nof_objects_tot, n_classes = 2, class_sep=1, shuffle=True, n_features=nof_features, n_informative=10,\n",
    "                           random_state=1, n_clusters_per_class=1, flip_y = 0)\n",
    "dX_orig = numpy.zeros([nof_objects_tot, nof_features])"
   ]
  },
  {
   "cell_type": "markdown",
   "metadata": {
    "scrolled": true
   },
   "source": [
    "## PRF vs. RF, nof trees, noise strength"
   ]
  },
  {
   "cell_type": "code",
   "execution_count": 22,
   "metadata": {
    "scrolled": true
   },
   "outputs": [
    {
     "name": "stdout",
     "output_type": "stream",
     "text": [
      "n_trees 1 ; noise 0.01 RF 0.8898 PRF 0.8636\n",
      "n_trees 1 ; noise 1 RF 0.8744 PRF 0.9044\n",
      "n_trees 1 ; noise 10 RF 0.756 PRF 0.8342\n",
      "n_trees 1 ; noise 20 RF 0.6716 PRF 0.7768\n",
      "n_trees 1 ; noise 30 RF 0.6596 PRF 0.7272\n",
      "n_trees 1 ; noise 40 RF 0.624 PRF 0.7096\n",
      "n_trees 1 ; noise 50 RF 0.6022 PRF 0.671\n",
      "n_trees 10 ; noise 0.01 RF 0.955 PRF 0.9518\n",
      "n_trees 10 ; noise 1 RF 0.9468 PRF 0.9512\n",
      "n_trees 10 ; noise 10 RF 0.846 PRF 0.8694\n",
      "n_trees 10 ; noise 20 RF 0.7752 PRF 0.8136\n",
      "n_trees 10 ; noise 30 RF 0.7134 PRF 0.763\n",
      "n_trees 10 ; noise 40 RF 0.6872 PRF 0.734\n",
      "n_trees 10 ; noise 50 RF 0.6498 PRF 0.702\n",
      "n_trees 50 ; noise 0.01 RF 0.9662 PRF 0.9598\n",
      "n_trees 50 ; noise 1 RF 0.9598 PRF 0.955\n",
      "n_trees 50 ; noise 10 RF 0.8736 PRF 0.8764\n",
      "n_trees 50 ; noise 20 RF 0.7968 PRF 0.8078\n",
      "n_trees 50 ; noise 30 RF 0.7504 PRF 0.7622\n",
      "n_trees 50 ; noise 40 RF 0.7252 PRF 0.7402\n",
      "n_trees 50 ; noise 50 RF 0.7026 PRF 0.7118\n"
     ]
    }
   ],
   "source": [
    "reload(load_data)\n",
    "reload(noise_data)\n",
    "n_features = 'auto'\n",
    "## Train set\n",
    "n_objs = 5000\n",
    "noise_in_labels_train = 0\n",
    "noise_in_features_train = 0\n",
    "obj_inds = numpy.random.choice(numpy.arange(nof_objects_tot), n_objs*2)\n",
    "obj_inds_train = obj_inds[::2]\n",
    "obj_inds_test = obj_inds[1::2]\n",
    "sigma_mat = noise_data.random_random_noise(nof_objects_tot, nof_features)\n",
    "X_tr, dX_tr, y_tr, pY_tr, _  = load_data.get_noised_data(X[obj_inds_train], \n",
    "                                                             dX_orig[obj_inds_train], \n",
    "                                                             y[obj_inds_train], \n",
    "                                                             sigma_mat[obj_inds_train], \n",
    "                                                             noise_in_labels_train, \n",
    "                                                             noise_in_features_train,\n",
    "                                                             dist = 'normal')\n",
    "\n",
    "X_te, dX_te, y_te, pY_te, _  = load_data.get_noised_data(X[obj_inds_test], \n",
    "                                                             dX_orig[obj_inds_test], \n",
    "                                                             y[obj_inds_test], \n",
    "                                                             sigma_mat[obj_inds_test], \n",
    "                                                             noise_in_labels_train, \n",
    "                                                             noise_in_features_train,\n",
    "                                                             dist = 'normal')\n",
    "\n",
    "\n",
    "noise_in_features_vec = [0.01, 1, 10, 20, 30, 40, 50]\n",
    "n_tress_vec = [1, 10, 50]\n",
    "for n_trees in n_tress_vec:\n",
    "    scores_RF = [] \n",
    "    scores_PRF = [] \n",
    "\n",
    "    for noise_in_features in noise_in_features_vec:\n",
    "        noise_in_labels = 0\n",
    "        X_tr, dX_tr, y_tr, pY_tr, fgo  = load_data.get_noised_data(X[obj_inds_train], \n",
    "                                                                 dX_orig[obj_inds_train], \n",
    "                                                                 y[obj_inds_train], \n",
    "                                                                 sigma_mat[obj_inds_train], \n",
    "                                                                 noise_in_labels, \n",
    "                                                                 noise_in_features,\n",
    "                                                                 dist = 'normal')\n",
    "\n",
    "        X_te, dX_te, y_te, pY_te, _  = load_data.get_noised_data(X[obj_inds_test], \n",
    "                                                                 dX_orig[obj_inds_test], \n",
    "                                                                 y[obj_inds_test], \n",
    "                                                                 sigma_mat[obj_inds_test], \n",
    "                                                                 0, \n",
    "                                                                 noise_in_features,\n",
    "                                                                 dist = 'normal')\n",
    "        prf = PRF.RandomForestClassifier(n_estimators=n_trees, max_features=n_features,\n",
    "                                                            use_py_gini=True, use_py_leafs=True)\n",
    "        prf.fit(X= X_tr,  y= y_tr, dX= dX_tr, py= pY_tr)\n",
    "        predict, proba = prf.predict(X=X_te, dX=dX_te)\n",
    "        scores_PRF += [(predict == y_te).sum()/len(predict)]\n",
    "\n",
    "\n",
    "        rf_sklean = sklearn.ensemble.RandomForestClassifier(n_estimators=n_trees, max_features=n_features, n_jobs = -1)\n",
    "        rf_sklean.fit(X_tr, y_tr)\n",
    "        score_RF = rf_sklean.score(X_te, y_te)\n",
    "        scores_RF += [score_RF]\n",
    "        print('n_trees', n_trees, '; noise', noise_in_features, 'RF', scores_RF[-1], 'PRF', scores_PRF[-1]  )\n",
    "\n",
    "\n",
    "    path = 'results/paper/noise_in_features_RR/n_trees_' + str(n_trees) +'_w_snr'\n",
    "    numpy.save(path, [scores_PRF, scores_RF, noise_in_features_vec, snr])"
   ]
  },
  {
   "cell_type": "markdown",
   "metadata": {},
   "source": [
    "## PRF vs. RF, dx = zero test, dx = 0 train"
   ]
  },
  {
   "cell_type": "code",
   "execution_count": 24,
   "metadata": {},
   "outputs": [
    {
     "name": "stdout",
     "output_type": "stream",
     "text": [
      "Noise 0.01 RF 0.9684 PRF 0.9628 PRF_TEST_ONLY 0.9634 PRF_TRAIN_ONLY 0.9622\n",
      "Noise 1 RF 0.9652 PRF 0.963 PRF_TEST_ONLY 0.959 PRF_TRAIN_ONLY 0.9612\n",
      "Noise 10 RF 0.8394 PRF 0.8476 PRF_TEST_ONLY 0.8486 PRF_TRAIN_ONLY 0.8404\n",
      "Noise 20 RF 0.7382 PRF 0.749 PRF_TEST_ONLY 0.7472 PRF_TRAIN_ONLY 0.7384\n",
      "Noise 30 RF 0.6864 PRF 0.6988 PRF_TEST_ONLY 0.7004 PRF_TRAIN_ONLY 0.6912\n",
      "Noise 40 RF 0.6366 PRF 0.6494 PRF_TEST_ONLY 0.6458 PRF_TRAIN_ONLY 0.6506\n",
      "Noise 50 RF 0.6294 PRF 0.6508 PRF_TEST_ONLY 0.6366 PRF_TRAIN_ONLY 0.6392\n"
     ]
    }
   ],
   "source": [
    "reload(load_data)\n",
    "reload(noise_data)\n",
    "n_features = 'auto'\n",
    "## Train set\n",
    "n_objs = 5000\n",
    "noise_in_labels_train = 0\n",
    "noise_in_features_train = 0\n",
    "obj_inds = numpy.random.choice(numpy.arange(nof_objects_tot), n_objs*2)\n",
    "obj_inds_train = obj_inds[::2]\n",
    "obj_inds_test = obj_inds[1::2]\n",
    "sigma_mat = noise_data.random_random_noise(nof_objects_tot, nof_features)\n",
    "X_tr, dX_tr, y_tr, pY_tr, _  = load_data.get_noised_data(X[obj_inds_train], \n",
    "                                                             dX_orig[obj_inds_train], \n",
    "                                                             y[obj_inds_train], \n",
    "                                                             sigma_mat[obj_inds_train], \n",
    "                                                             noise_in_labels_train, \n",
    "                                                             noise_in_features_train,\n",
    "                                                             dist = 'normal')\n",
    "\n",
    "X_te, dX_te, y_te, pY_te, _  = load_data.get_noised_data(X[obj_inds_test], \n",
    "                                                             dX_orig[obj_inds_test], \n",
    "                                                             y[obj_inds_test], \n",
    "                                                             sigma_mat[obj_inds_test], \n",
    "                                                             noise_in_labels_train, \n",
    "                                                             noise_in_features_train,\n",
    "                                                             dist = 'normal')\n",
    "\n",
    "\n",
    "noise_in_features_vec = [0.01, 1, 10, 20, 30, 40, 50]\n",
    "n_trees = 50\n",
    "scores_RF = [] \n",
    "scores_PRF = [] \n",
    "scores_PRF_test_only = [] \n",
    "scores_PRF_train_only = [] \n",
    "\n",
    "for noise_in_features in noise_in_features_vec:\n",
    "    noise_in_labels = 0\n",
    "    X_tr, dX_tr, y_tr, pY_tr, fgo  = load_data.get_noised_data(X[obj_inds_train], \n",
    "                                                             dX_orig[obj_inds_train], \n",
    "                                                             y[obj_inds_train], \n",
    "                                                             sigma_mat[obj_inds_train], \n",
    "                                                             noise_in_labels, \n",
    "                                                             noise_in_features,\n",
    "                                                             dist = 'normal')\n",
    "\n",
    "    X_te, dX_te, y_te, pY_te, _  = load_data.get_noised_data(X[obj_inds_test], \n",
    "                                                             dX_orig[obj_inds_test], \n",
    "                                                             y[obj_inds_test], \n",
    "                                                             sigma_mat[obj_inds_test], \n",
    "                                                             0, \n",
    "                                                             noise_in_features,\n",
    "                                                             dist = 'normal')\n",
    "    prf = PRF.RandomForestClassifier(n_estimators=n_trees, max_features=n_features,\n",
    "                                                        use_py_gini=True, use_py_leafs=True)\n",
    "    prf.fit(X= X_tr,  y= y_tr, dX= dX_tr, py= pY_tr)\n",
    "    predict, proba = prf.predict(X=X_te, dX=dX_te)\n",
    "    scores_PRF += [(predict == y_te).sum()/len(predict)]\n",
    "    \n",
    "    prf_test_only = PRF.RandomForestClassifier(n_estimators=n_trees, max_features=n_features,\n",
    "                                                        use_py_gini=True, use_py_leafs=True)\n",
    "    prf_test_only.fit(X= X_tr,  y= y_tr, dX= numpy.zeros(dX_tr.shape), py= pY_tr)\n",
    "    predict, proba = prf_test_only.predict(X=X_te, dX=dX_te)\n",
    "    scores_PRF_test_only += [(predict == y_te).sum()/len(predict)]\n",
    "    \n",
    "    prf_train_only = PRF.RandomForestClassifier(n_estimators=n_trees, max_features=n_features,\n",
    "                                                        use_py_gini=True, use_py_leafs=True)\n",
    "    prf_train_only.fit(X= X_tr,  y= y_tr, dX= dX_tr, py= pY_tr)\n",
    "    predict, proba = prf_train_only.predict(X=X_te, dX=numpy.zeros(dX_te.shape))\n",
    "    scores_PRF_train_only += [(predict == y_te).sum()/len(predict)]\n",
    "\n",
    "\n",
    "    rf_sklean = sklearn.ensemble.RandomForestClassifier(n_estimators=n_trees, max_features=n_features, n_jobs = -1)\n",
    "    rf_sklean.fit(X_tr, y_tr)\n",
    "    score_RF = rf_sklean.score(X_te, y_te)\n",
    "    scores_RF += [score_RF]\n",
    "    print('Noise', noise_in_features, \n",
    "          'RF', scores_RF[-1], \n",
    "          'PRF', scores_PRF[-1], \n",
    "          'PRF_TEST_ONLY',  scores_PRF_test_only[-1],\n",
    "          'PRF_TRAIN_ONLY',  scores_PRF_train_only[-1] )\n",
    "\n",
    "\n",
    "path = 'results/paper/noise_in_features_RR/train_only_test_only_n_trees' + str(n_trees) \n",
    "numpy.save(path, [scores_PRF, scores_RF, scores_PRF_train_only, scores_PRF_test_only, noise_in_features_vec])"
   ]
  },
  {
   "cell_type": "code",
   "execution_count": null,
   "metadata": {},
   "outputs": [],
   "source": []
  },
  {
   "cell_type": "markdown",
   "metadata": {},
   "source": [
    "# Noise in the features - groups"
   ]
  },
  {
   "cell_type": "code",
   "execution_count": 25,
   "metadata": {},
   "outputs": [],
   "source": [
    "mkdir results/paper/noise_in_features_G"
   ]
  },
  {
   "cell_type": "code",
   "execution_count": null,
   "metadata": {
    "collapsed": true
   },
   "outputs": [],
   "source": []
  },
  {
   "cell_type": "code",
   "execution_count": 17,
   "metadata": {},
   "outputs": [],
   "source": [
    "from importlib import reload\n",
    "import numpy\n",
    "import pickle\n",
    "import load_data\n",
    "import noise_data\n",
    "import PRF\n",
    "import sklearn\n",
    "from sklearn.ensemble import RandomForestClassifier"
   ]
  },
  {
   "cell_type": "code",
   "execution_count": 18,
   "metadata": {},
   "outputs": [],
   "source": [
    "from sklearn.datasets import  make_classification\n",
    "nof_objects_tot = 200000\n",
    "nof_features = 15\n",
    "X, y = make_classification(n_samples=nof_objects_tot, n_classes = 2, class_sep=1, shuffle=True, n_features=nof_features, n_informative=10,\n",
    "                           random_state=1, n_clusters_per_class=1, flip_y = 0)\n",
    "dX_orig = numpy.zeros([nof_objects_tot, nof_features])"
   ]
  },
  {
   "cell_type": "code",
   "execution_count": null,
   "metadata": {},
   "outputs": [],
   "source": []
  },
  {
   "cell_type": "code",
   "execution_count": null,
   "metadata": {},
   "outputs": [],
   "source": []
  },
  {
   "cell_type": "code",
   "execution_count": 36,
   "metadata": {},
   "outputs": [
    {
     "name": "stdout",
     "output_type": "stream",
     "text": [
      "n_trees 1 ; noise 0.01 RF 0.8674 PRF 0.8834\n",
      "n_trees 1 ; noise 1 RF 0.8096 PRF 0.863\n",
      "n_trees 1 ; noise 2 RF 0.731 PRF 0.8188\n",
      "n_trees 1 ; noise 6 RF 0.626 PRF 0.7128\n",
      "n_trees 1 ; noise 8 RF 0.6204 PRF 0.6974\n",
      "n_trees 1 ; noise 10 RF 0.6016 PRF 0.6734\n",
      "n_trees 50 ; noise 0.01 RF 0.9622 PRF 0.955\n",
      "n_trees 50 ; noise 1 RF 0.9216 PRF 0.924\n",
      "n_trees 50 ; noise 2 RF 0.8394 PRF 0.849\n",
      "n_trees 50 ; noise 6 RF 0.7262 PRF 0.749\n",
      "n_trees 50 ; noise 8 RF 0.6998 PRF 0.7368\n",
      "n_trees 50 ; noise 10 RF 0.7024 PRF 0.7428\n",
      "n_trees 100 ; noise 0.01 RF 0.9616 PRF 0.957\n",
      "n_trees 100 ; noise 1 RF 0.919 PRF 0.9168\n",
      "n_trees 100 ; noise 2 RF 0.8532 PRF 0.86\n",
      "n_trees 100 ; noise 6 RF 0.725 PRF 0.752\n",
      "n_trees 100 ; noise 8 RF 0.7136 PRF 0.742\n",
      "n_trees 100 ; noise 10 RF 0.7022 PRF 0.745\n"
     ]
    }
   ],
   "source": [
    "reload(load_data)\n",
    "reload(noise_data)\n",
    "n_features = 'auto'\n",
    "## Train set\n",
    "n_objs = 5000\n",
    "noise_in_labels_train = 0\n",
    "noise_in_features_train = 0\n",
    "obj_inds = numpy.random.choice(numpy.arange(nof_objects_tot), n_objs*2)\n",
    "obj_inds_train = obj_inds[::2]\n",
    "obj_inds_test = obj_inds[1::2]\n",
    "sigma_mat = noise_data.bad_features_per_object_group_noise(nof_objects_tot, nof_features)\n",
    "X_tr, dX_tr, y_tr, pY_tr, _  = load_data.get_noised_data(X[obj_inds_train], \n",
    "                                                             dX_orig[obj_inds_train], \n",
    "                                                             y[obj_inds_train], \n",
    "                                                             sigma_mat[obj_inds_train], \n",
    "                                                             noise_in_labels_train, \n",
    "                                                             noise_in_features_train,\n",
    "                                                             dist = 'normal')\n",
    "\n",
    "X_te, dX_te, y_te, pY_te, _  = load_data.get_noised_data(X[obj_inds_test], \n",
    "                                                             dX_orig[obj_inds_test], \n",
    "                                                             y[obj_inds_test], \n",
    "                                                             sigma_mat[obj_inds_test], \n",
    "                                                             noise_in_labels_train, \n",
    "                                                             noise_in_features_train,\n",
    "                                                             dist = 'normal')\n",
    "\n",
    "\n",
    "noise_in_features_vec = [0.01, 1, 2, 6, 8, 10]\n",
    "n_tress_vec = [1, 50, 100]\n",
    "for n_trees in n_tress_vec:\n",
    "    scores_RF = [] \n",
    "    scores_PRF = [] \n",
    "\n",
    "    for noise_in_features in noise_in_features_vec:\n",
    "        noise_in_labels = 0\n",
    "        X_tr, dX_tr, y_tr, pY_tr, fgo  = load_data.get_noised_data(X[obj_inds_train], \n",
    "                                                                 dX_orig[obj_inds_train], \n",
    "                                                                 y[obj_inds_train], \n",
    "                                                                 sigma_mat[obj_inds_train], \n",
    "                                                                 noise_in_labels, \n",
    "                                                                 noise_in_features,\n",
    "                                                                 dist = 'normal')\n",
    "\n",
    "        X_te, dX_te, y_te, pY_te, _  = load_data.get_noised_data(X[obj_inds_test], \n",
    "                                                                 dX_orig[obj_inds_test], \n",
    "                                                                 y[obj_inds_test], \n",
    "                                                                 sigma_mat[obj_inds_test], \n",
    "                                                                 0, \n",
    "                                                                 noise_in_features,\n",
    "                                                                 dist = 'normal')\n",
    "        prf = PRF.RandomForestClassifier(n_estimators=n_trees, max_features=n_features,\n",
    "                                                            use_py_gini=True, use_py_leafs=True)\n",
    "        prf.fit(X= X_tr,  y= y_tr, dX= dX_tr, py= pY_tr)\n",
    "        predict, proba = prf.predict(X=X_te, dX=dX_te)\n",
    "        scores_PRF += [(predict == y_te).sum()/len(predict)]\n",
    "\n",
    "\n",
    "        rf_sklean = sklearn.ensemble.RandomForestClassifier(n_estimators=n_trees, max_features=n_features, n_jobs = -1)\n",
    "        rf_sklean.fit(X_tr, y_tr)\n",
    "        score_RF = rf_sklean.score(X_te, y_te)\n",
    "        scores_RF += [score_RF]\n",
    "        print('n_trees', n_trees, '; noise', noise_in_features, 'RF', scores_RF[-1], 'PRF', scores_PRF[-1]  )\n",
    "\n",
    "\n",
    "    path = 'results/paper/noise_in_features_G/n_trees_' + str(n_trees) + '_20_groups'\n",
    "    numpy.save(path, [scores_PRF, scores_RF, noise_in_features_vec])"
   ]
  },
  {
   "cell_type": "code",
   "execution_count": 32,
   "metadata": {},
   "outputs": [
    {
     "name": "stdout",
     "output_type": "stream",
     "text": [
      "Noise 0.01 RF 0.9652 PRF 0.9632 PRF_TEST_ONLY 0.9602 PRF_TRAIN_ONLY 0.9584\n",
      "Noise 1 RF 0.9168 PRF 0.9144 PRF_TEST_ONLY 0.9192 PRF_TRAIN_ONLY 0.914\n",
      "Noise 2 RF 0.851 PRF 0.8644 PRF_TEST_ONLY 0.8608 PRF_TRAIN_ONLY 0.8546\n",
      "Noise 6 RF 0.7692 PRF 0.7978 PRF_TEST_ONLY 0.7942 PRF_TRAIN_ONLY 0.7732\n",
      "Noise 8 RF 0.7526 PRF 0.7986 PRF_TEST_ONLY 0.786 PRF_TRAIN_ONLY 0.7694\n",
      "Noise 10 RF 0.7634 PRF 0.7928 PRF_TEST_ONLY 0.791 PRF_TRAIN_ONLY 0.777\n"
     ]
    }
   ],
   "source": [
    "reload(load_data)\n",
    "reload(noise_data)\n",
    "n_features = 'auto'\n",
    "## Train set\n",
    "n_objs = 5000\n",
    "noise_in_labels_train = 0\n",
    "noise_in_features_train = 0\n",
    "obj_inds = numpy.random.choice(numpy.arange(nof_objects_tot), n_objs*2)\n",
    "obj_inds_train = obj_inds[::2]\n",
    "obj_inds_test = obj_inds[1::2]\n",
    "sigma_mat = noise_data.bad_features_per_object_group_noise(nof_objects_tot, nof_features)\n",
    "X_tr, dX_tr, y_tr, pY_tr, _  = load_data.get_noised_data(X[obj_inds_train], \n",
    "                                                             dX_orig[obj_inds_train], \n",
    "                                                             y[obj_inds_train], \n",
    "                                                             sigma_mat[obj_inds_train], \n",
    "                                                             noise_in_labels_train, \n",
    "                                                             noise_in_features_train,\n",
    "                                                             dist = 'normal')\n",
    "\n",
    "X_te, dX_te, y_te, pY_te, _  = load_data.get_noised_data(X[obj_inds_test], \n",
    "                                                             dX_orig[obj_inds_test], \n",
    "                                                             y[obj_inds_test], \n",
    "                                                             sigma_mat[obj_inds_test], \n",
    "                                                             noise_in_labels_train, \n",
    "                                                             noise_in_features_train,\n",
    "                                                             dist = 'normal')\n",
    "\n",
    "\n",
    "noise_in_features_vec =  [0.01, 1, 2, 6, 8, 10]\n",
    "n_trees = 50\n",
    "scores_RF = [] \n",
    "scores_PRF = [] \n",
    "scores_PRF_test_only = [] \n",
    "scores_PRF_train_only = [] \n",
    "\n",
    "for noise_in_features in noise_in_features_vec:\n",
    "    noise_in_labels = 0\n",
    "    X_tr, dX_tr, y_tr, pY_tr, fgo  = load_data.get_noised_data(X[obj_inds_train], \n",
    "                                                             dX_orig[obj_inds_train], \n",
    "                                                             y[obj_inds_train], \n",
    "                                                             sigma_mat[obj_inds_train], \n",
    "                                                             noise_in_labels, \n",
    "                                                             noise_in_features,\n",
    "                                                             dist = 'normal')\n",
    "\n",
    "    X_te, dX_te, y_te, pY_te, _  = load_data.get_noised_data(X[obj_inds_test], \n",
    "                                                             dX_orig[obj_inds_test], \n",
    "                                                             y[obj_inds_test], \n",
    "                                                             sigma_mat[obj_inds_test], \n",
    "                                                             0, \n",
    "                                                             noise_in_features,\n",
    "                                                             dist = 'normal')\n",
    "    prf = PRF.RandomForestClassifier(n_estimators=n_trees, max_features=n_features,\n",
    "                                                        use_py_gini=True, use_py_leafs=True)\n",
    "    prf.fit(X= X_tr,  y= y_tr, dX= dX_tr, py= pY_tr)\n",
    "    predict, proba = prf.predict(X=X_te, dX=dX_te)\n",
    "    scores_PRF += [(predict == y_te).sum()/len(predict)]\n",
    "    \n",
    "    prf_test_only = PRF.RandomForestClassifier(n_estimators=n_trees, max_features=n_features,\n",
    "                                                        use_py_gini=True, use_py_leafs=True)\n",
    "    prf_test_only.fit(X= X_tr,  y= y_tr, dX= numpy.zeros(dX_tr.shape), py= pY_tr)\n",
    "    predict, proba = prf_test_only.predict(X=X_te, dX=dX_te)\n",
    "    scores_PRF_test_only += [(predict == y_te).sum()/len(predict)]\n",
    "    \n",
    "    prf_train_only = PRF.RandomForestClassifier(n_estimators=n_trees, max_features=n_features,\n",
    "                                                        use_py_gini=True, use_py_leafs=True)\n",
    "    prf_train_only.fit(X= X_tr,  y= y_tr, dX= dX_tr, py= pY_tr)\n",
    "    predict, proba = prf_train_only.predict(X=X_te, dX=numpy.zeros(dX_te.shape))\n",
    "    scores_PRF_train_only += [(predict == y_te).sum()/len(predict)]\n",
    "\n",
    "\n",
    "    rf_sklean = sklearn.ensemble.RandomForestClassifier(n_estimators=n_trees, max_features=n_features, n_jobs = -1)\n",
    "    rf_sklean.fit(X_tr, y_tr)\n",
    "    score_RF = rf_sklean.score(X_te, y_te)\n",
    "    scores_RF += [score_RF]\n",
    "    print('Noise', noise_in_features, \n",
    "          'RF', scores_RF[-1], \n",
    "          'PRF', scores_PRF[-1], \n",
    "          'PRF_TEST_ONLY',  scores_PRF_test_only[-1],\n",
    "          'PRF_TRAIN_ONLY',  scores_PRF_train_only[-1] )"
   ]
  },
  {
   "cell_type": "code",
   "execution_count": 33,
   "metadata": {},
   "outputs": [],
   "source": [
    "path = 'results/paper/noise_in_features_G/train_only_test_only_n_trees' + str(n_trees) +'_v3'\n",
    "numpy.save(path, [scores_PRF, scores_RF, scores_PRF_train_only, scores_PRF_test_only, noise_in_features_vec])"
   ]
  },
  {
   "cell_type": "code",
   "execution_count": 34,
   "metadata": {},
   "outputs": [
    {
     "name": "stdout",
     "output_type": "stream",
     "text": [
      "Noise 0.01 RF 0.9664 PRF 0.966 PRF_TEST_ONLY 0.966 PRF_TRAIN_ONLY 0.9674\n",
      "Noise 1 RF 0.9154 PRF 0.9196 PRF_TEST_ONLY 0.9202 PRF_TRAIN_ONLY 0.9126\n",
      "Noise 2 RF 0.834 PRF 0.8438 PRF_TEST_ONLY 0.8384 PRF_TRAIN_ONLY 0.8326\n",
      "Noise 6 RF 0.6976 PRF 0.7302 PRF_TEST_ONLY 0.722 PRF_TRAIN_ONLY 0.707\n",
      "Noise 8 RF 0.6874 PRF 0.7256 PRF_TEST_ONLY 0.7194 PRF_TRAIN_ONLY 0.6908\n",
      "Noise 10 RF 0.677 PRF 0.7198 PRF_TEST_ONLY 0.7116 PRF_TRAIN_ONLY 0.6952\n"
     ]
    }
   ],
   "source": [
    "reload(load_data)\n",
    "reload(noise_data)\n",
    "n_features = 'auto'\n",
    "## Train set\n",
    "n_objs = 5000\n",
    "noise_in_labels_train = 0\n",
    "noise_in_features_train = 0\n",
    "obj_inds = numpy.random.choice(numpy.arange(nof_objects_tot), n_objs*2)\n",
    "obj_inds_train = obj_inds[::2]\n",
    "obj_inds_test = obj_inds[1::2]\n",
    "sigma_mat = noise_data.bad_features_per_object_group_noise(nof_objects_tot, nof_features)\n",
    "X_tr, dX_tr, y_tr, pY_tr, _  = load_data.get_noised_data(X[obj_inds_train], \n",
    "                                                             dX_orig[obj_inds_train], \n",
    "                                                             y[obj_inds_train], \n",
    "                                                             sigma_mat[obj_inds_train], \n",
    "                                                             noise_in_labels_train, \n",
    "                                                             noise_in_features_train,\n",
    "                                                             dist = 'normal')\n",
    "\n",
    "X_te, dX_te, y_te, pY_te, _  = load_data.get_noised_data(X[obj_inds_test], \n",
    "                                                             dX_orig[obj_inds_test], \n",
    "                                                             y[obj_inds_test], \n",
    "                                                             sigma_mat[obj_inds_test], \n",
    "                                                             noise_in_labels_train, \n",
    "                                                             noise_in_features_train,\n",
    "                                                             dist = 'normal')\n",
    "\n",
    "\n",
    "noise_in_features_vec =  [0.01, 1, 2, 6, 8, 10, 12]\n",
    "n_trees = 50\n",
    "scores_RF = [] \n",
    "scores_PRF = [] \n",
    "scores_PRF_test_only = [] \n",
    "scores_PRF_train_only = [] \n",
    "\n",
    "for noise_in_features in noise_in_features_vec:\n",
    "    noise_in_labels = 0\n",
    "    X_tr, dX_tr, y_tr, pY_tr, fgo  = load_data.get_noised_data(X[obj_inds_train], \n",
    "                                                             dX_orig[obj_inds_train], \n",
    "                                                             y[obj_inds_train], \n",
    "                                                             sigma_mat[obj_inds_train], \n",
    "                                                             noise_in_labels, \n",
    "                                                             noise_in_features,\n",
    "                                                             dist = 'normal')\n",
    "\n",
    "    X_te, dX_te, y_te, pY_te, _  = load_data.get_noised_data(X[obj_inds_test], \n",
    "                                                             dX_orig[obj_inds_test], \n",
    "                                                             y[obj_inds_test], \n",
    "                                                             sigma_mat[obj_inds_test], \n",
    "                                                             0, \n",
    "                                                             noise_in_features,\n",
    "                                                             dist = 'normal')\n",
    "    prf = PRF.RandomForestClassifier(n_estimators=n_trees, max_features=n_features,\n",
    "                                                        use_py_gini=True, use_py_leafs=True)\n",
    "    prf.fit(X= X_tr,  y= y_tr, dX= dX_tr, py= pY_tr)\n",
    "    predict, proba = prf.predict(X=X_te, dX=dX_te)\n",
    "    scores_PRF += [(predict == y_te).sum()/len(predict)]\n",
    "    \n",
    "    prf_test_only = PRF.RandomForestClassifier(n_estimators=n_trees, max_features=n_features,\n",
    "                                                        use_py_gini=True, use_py_leafs=True)\n",
    "    prf_test_only.fit(X= X_tr,  y= y_tr, dX= numpy.zeros(dX_tr.shape), py= pY_tr)\n",
    "    predict, proba = prf_test_only.predict(X=X_te, dX=dX_te)\n",
    "    scores_PRF_test_only += [(predict == y_te).sum()/len(predict)]\n",
    "    \n",
    "    prf_train_only = PRF.RandomForestClassifier(n_estimators=n_trees, max_features=n_features,\n",
    "                                                        use_py_gini=True, use_py_leafs=True)\n",
    "    prf_train_only.fit(X= X_tr,  y= y_tr, dX= dX_tr, py= pY_tr)\n",
    "    predict, proba = prf_train_only.predict(X=X_te, dX=numpy.zeros(dX_te.shape))\n",
    "    scores_PRF_train_only += [(predict == y_te).sum()/len(predict)]\n",
    "\n",
    "\n",
    "    rf_sklean = sklearn.ensemble.RandomForestClassifier(n_estimators=n_trees, max_features=n_features, n_jobs = -1)\n",
    "    rf_sklean.fit(X_tr, y_tr)\n",
    "    score_RF = rf_sklean.score(X_te, y_te)\n",
    "    scores_RF += [score_RF]\n",
    "    print('Noise', noise_in_features, \n",
    "          'RF', scores_RF[-1], \n",
    "          'PRF', scores_PRF[-1], \n",
    "          'PRF_TEST_ONLY',  scores_PRF_test_only[-1],\n",
    "          'PRF_TRAIN_ONLY',  scores_PRF_train_only[-1] )"
   ]
  },
  {
   "cell_type": "code",
   "execution_count": 35,
   "metadata": {},
   "outputs": [],
   "source": [
    "path = 'results/paper/noise_in_features_G/train_only_test_only_n_trees' + str(n_trees) +'_20_groups_v2'\n",
    "numpy.save(path, [scores_PRF, scores_RF, scores_PRF_train_only, scores_PRF_test_only, noise_in_features_vec])"
   ]
  },
  {
   "cell_type": "code",
   "execution_count": null,
   "metadata": {},
   "outputs": [],
   "source": []
  },
  {
   "cell_type": "markdown",
   "metadata": {},
   "source": [
    "# Keep probability"
   ]
  },
  {
   "cell_type": "code",
   "execution_count": 39,
   "metadata": {},
   "outputs": [],
   "source": [
    "!mkdir results/paper/keep_proba/"
   ]
  },
  {
   "cell_type": "code",
   "execution_count": 37,
   "metadata": {},
   "outputs": [],
   "source": [
    "reload(load_data)\n",
    "reload(noise_data)\n",
    "reload(PRF)\n",
    "\n",
    "n_features = 'auto'\n",
    "## Train set\n",
    "n_objs = 5000\n",
    "noise_in_labels_train = 0\n",
    "noise_in_features_train = 10\n",
    "obj_inds = numpy.random.choice(numpy.arange(nof_objects_tot), n_objs*2)\n",
    "obj_inds_train = obj_inds[::2]\n",
    "obj_inds_test = obj_inds[1::2]\n",
    "sigma_mat = noise_data.bad_features_per_object_group_noise(nof_objects_tot, nof_features)\n",
    "X_tr, dX_tr, y_tr, pY_tr, _  = load_data.get_noised_data(X[obj_inds_train], \n",
    "                                                             dX_orig[obj_inds_train], \n",
    "                                                             y[obj_inds_train], \n",
    "                                                             sigma_mat[obj_inds_train], \n",
    "                                                             noise_in_labels_train, \n",
    "                                                             noise_in_features_train,\n",
    "                                                             dist = 'normal')\n",
    "\n",
    "X_te, dX_te, y_te, pY_te, _  = load_data.get_noised_data(X[obj_inds_test], \n",
    "                                                             dX_orig[obj_inds_test], \n",
    "                                                             y[obj_inds_test], \n",
    "                                                             sigma_mat[obj_inds_test], \n",
    "                                                             noise_in_labels_train, \n",
    "                                                             noise_in_features_train,\n",
    "                                                             dist = 'normal')"
   ]
  },
  {
   "cell_type": "code",
   "execution_count": 47,
   "metadata": {},
   "outputs": [
    {
     "data": {
      "text/plain": [
       "0.6444"
      ]
     },
     "execution_count": 47,
     "metadata": {},
     "output_type": "execute_result"
    }
   ],
   "source": [
    "n_trees = 10\n",
    "rf_sklean = sklearn.ensemble.RandomForestClassifier(n_estimators=n_trees, max_features=n_features, n_jobs = -1)\n",
    "rf_sklean.fit(X_tr, y_tr)\n",
    "score_RF = rf_sklean.score(X_te, y_te)\n",
    "score_RF"
   ]
  },
  {
   "cell_type": "code",
   "execution_count": 48,
   "metadata": {},
   "outputs": [
    {
     "name": "stdout",
     "output_type": "stream",
     "text": [
      "keep_proba: 1 PRF 0.6174\n",
      "keep_proba: 0.5 PRF 0.6752\n",
      "keep_proba: 0.2 PRF 0.6952\n",
      "keep_proba: 0.1 PRF 0.706\n",
      "keep_proba: 0.01 PRF 0.7142\n",
      "keep_proba: 0.001 PRF 0.7116\n",
      "keep_proba: 0.0001 PRF 0.708\n",
      "keep_proba: 1e-05 PRF 0.7094\n"
     ]
    }
   ],
   "source": [
    "n_features = 'auto'\n",
    "prf_scores = []\n",
    "\n",
    "keep_proba_vec = [1, 0.5, 0.2,  0.1, 0.01,  0.001, 0.0001, 0.00001]\n",
    "for keep_proba in keep_proba_vec:\n",
    "\n",
    "    prf = PRF.RandomForestClassifier(n_estimators=n_trees, max_features=n_features,\n",
    "                                                        use_py_gini=True, use_py_leafs=True, keep_proba = keep_proba)\n",
    "    prf.fit(X= X_tr,  y= y_tr, dX= dX_tr, py= pY_tr)\n",
    "    predict, proba = prf.predict(X=X_te, dX=dX_te)\n",
    "    prf_scores += [(predict == y_te).sum()/len(predict)]\n",
    "    \n",
    "    print('keep_proba:', keep_proba, 'PRF', prf_scores[-1])\n",
    "    \n"
   ]
  },
  {
   "cell_type": "code",
   "execution_count": 49,
   "metadata": {},
   "outputs": [],
   "source": [
    "path = 'results/paper/keep_proba/n_trees_' + str(n_trees) \n",
    "rf_scores = [0.6444 for i in keep_proba_vec]\n",
    "numpy.save(path, [rf_scores, prf_scores, keep_proba_vec])"
   ]
  },
  {
   "cell_type": "markdown",
   "metadata": {},
   "source": [
    "# Runtime"
   ]
  },
  {
   "cell_type": "code",
   "execution_count": 2,
   "metadata": {},
   "outputs": [],
   "source": [
    "from importlib import reload\n",
    "import numpy\n",
    "import pickle\n",
    "import load_data\n",
    "import noise_data\n",
    "import PRF\n",
    "import sklearn\n",
    "from sklearn.ensemble import RandomForestClassifier"
   ]
  },
  {
   "cell_type": "code",
   "execution_count": 3,
   "metadata": {},
   "outputs": [],
   "source": [
    "from sklearn.datasets import  make_classification\n",
    "nof_objects_tot = 200000\n",
    "nof_features = 15\n",
    "X, y = make_classification(n_samples=nof_objects_tot, n_classes = 2, class_sep=1, shuffle=True, n_features=nof_features, n_informative=10,\n",
    "                           random_state=1, n_clusters_per_class=1, flip_y = 0)\n",
    "dX_orig = numpy.zeros([nof_objects_tot, nof_features])"
   ]
  },
  {
   "cell_type": "code",
   "execution_count": null,
   "metadata": {},
   "outputs": [],
   "source": []
  },
  {
   "cell_type": "code",
   "execution_count": null,
   "metadata": {},
   "outputs": [],
   "source": []
  },
  {
   "cell_type": "code",
   "execution_count": 19,
   "metadata": {},
   "outputs": [],
   "source": [
    "reload(load_data)\n",
    "reload(noise_data)\n",
    "reload(PRF)\n",
    "\n",
    "n_features = 'auto'\n",
    "## Train set\n",
    "n_objs = 100\n",
    "noise_in_labels_train = 0\n",
    "noise_in_features_train = 10\n",
    "obj_inds = numpy.random.choice(numpy.arange(nof_objects_tot), n_objs*2)\n",
    "obj_inds_train = obj_inds[::2]\n",
    "obj_inds_test = obj_inds[1::2]\n",
    "sigma_mat = noise_data.bad_features_per_object_group_noise(nof_objects_tot, nof_features)\n",
    "X_tr, dX_tr, y_tr, pY_tr, _  = load_data.get_noised_data(X[obj_inds_train], \n",
    "                                                             dX_orig[obj_inds_train], \n",
    "                                                             y[obj_inds_train], \n",
    "                                                             sigma_mat[obj_inds_train], \n",
    "                                                             noise_in_labels_train, \n",
    "                                                             noise_in_features_train,\n",
    "                                                             dist = 'normal')\n",
    "\n",
    "X_te, dX_te, y_te, pY_te, _  = load_data.get_noised_data(X[obj_inds_test], \n",
    "                                                             dX_orig[obj_inds_test], \n",
    "                                                             y[obj_inds_test], \n",
    "                                                             sigma_mat[obj_inds_test], \n",
    "                                                             noise_in_labels_train, \n",
    "                                                             noise_in_features_train,\n",
    "                                                             dist = 'normal')"
   ]
  },
  {
   "cell_type": "code",
   "execution_count": 20,
   "metadata": {},
   "outputs": [
    {
     "name": "stdout",
     "output_type": "stream",
     "text": [
      "RF 0.57\n",
      "CPU times: user 103 ms, sys: 20.8 ms, total: 124 ms\n",
      "Wall time: 250 ms\n"
     ]
    }
   ],
   "source": [
    "%%time\n",
    "n_trees = 10\n",
    "rf_sklean = sklearn.ensemble.RandomForestClassifier(n_estimators=n_trees, max_features=n_features, n_jobs = -1)\n",
    "rf_sklean.fit(X_tr, y_tr)\n",
    "score_RF = rf_sklean.score(X_te, y_te)\n",
    "print('RF', score_RF)"
   ]
  },
  {
   "cell_type": "code",
   "execution_count": 21,
   "metadata": {},
   "outputs": [
    {
     "name": "stdout",
     "output_type": "stream",
     "text": [
      "PRF 0.64\n",
      "CPU times: user 94.9 ms, sys: 3.11 ms, total: 98 ms\n",
      "Wall time: 104 ms\n"
     ]
    }
   ],
   "source": [
    "%%time\n",
    "prf = PRF.RandomForestClassifier(n_estimators=n_trees, max_features=n_features,\n",
    "                                                        use_py_gini=True, use_py_leafs=True, keep_proba=0.5)\n",
    "prf.fit(X= X_tr,  y= y_tr, dX= dX_tr, py= pY_tr)\n",
    "predict, proba = prf.predict(X=X_te, dX=dX_te)\n",
    "prf_score = (predict == y_te).sum()/len(predict)\n",
    "\n",
    "print('PRF', prf_score)"
   ]
  },
  {
   "cell_type": "code",
   "execution_count": null,
   "metadata": {},
   "outputs": [],
   "source": [
    "prf_pth_01 = [ 207, 861, 3530, 7240, 67000]\n",
    "prf_pth_05 = [ 94, 306, 1080, 2060, 21800]"
   ]
  },
  {
   "cell_type": "code",
   "execution_count": null,
   "metadata": {},
   "outputs": [],
   "source": [
    "10 trees, default kp\n",
    "\n",
    "100 objects\n",
    "186 ms ,90.8 ms\n",
    "1000 objects\n",
    "1.29 s ,151 ms\n",
    "5000 objects\n",
    "5.55 s ,443 ms\n",
    "10000 objects\n",
    "11.3 s ,839 ms\n",
    "\n",
    "rf = [90.8, 151, 443, 839, 5890]\n",
    "prf_pth_005 = [ 186, 1290, 5550, 11300, 91000]"
   ]
  },
  {
   "cell_type": "code",
   "execution_count": null,
   "metadata": {},
   "outputs": [],
   "source": [
    "10 trees, kp = 1\n",
    "\n",
    "100 objects\n",
    "62.4 ms ,90.8 ms\n",
    "1000 objects\n",
    "130 ms ,151 ms\n",
    "5000 objects\n",
    "454 ms ,443 ms\n",
    "10000 objects\n",
    "795 ms ,839 ms\n",
    "\n",
    "prf_pth_1 = [ 62.4, 130, 454, 795, 8600]"
   ]
  },
  {
   "cell_type": "markdown",
   "metadata": {},
   "source": [
    "# Different noise train - test"
   ]
  },
  {
   "cell_type": "code",
   "execution_count": null,
   "metadata": {},
   "outputs": [],
   "source": [
    "from sklearn.datasets import  make_classification\n",
    "nof_objects_tot = 200000\n",
    "nof_features = 15\n",
    "X, y = make_classification(n_samples=nof_objects_tot, n_classes = 2, class_sep=1, shuffle=True, n_features=nof_features, n_informative=10,\n",
    "                           random_state=1, n_clusters_per_class=1, flip_y = 0)\n",
    "dX_orig = numpy.zeros([nof_objects_tot, nof_features])\n",
    "diff = abs(numpy.mean(X[y == 1], axis = 0) - numpy.mean(X[y == 0], axis = 0))\n"
   ]
  },
  {
   "cell_type": "code",
   "execution_count": null,
   "metadata": {},
   "outputs": [],
   "source": [
    "reload(load_data)\n",
    "reload(noise_data)\n",
    "n_features = 'auto'\n",
    "## Train set\n",
    "n_objs = 5000\n",
    "noise_in_labels_train = 0\n",
    "noise_in_features_train = 0\n",
    "obj_inds = numpy.random.choice(numpy.arange(nof_objects_tot), n_objs*2)\n",
    "obj_inds_train = obj_inds[::2]\n",
    "obj_inds_test = obj_inds[1::2]\n",
    "sigma_mat_test = noise_data.many_bad_features_noise(nof_objects_tot, nof_features)\n",
    "sigma_mat_train = noise_data.many_bad_features_noise(nof_objects_tot, nof_features)"
   ]
  },
  {
   "cell_type": "code",
   "execution_count": 68,
   "metadata": {},
   "outputs": [
    {
     "name": "stdout",
     "output_type": "stream",
     "text": [
      "Noise 0.01 RF 0.965 PRF 0.9612 PRF_TEST_ONLY 0.9588 PRF_TRAIN_ONLY 0.9596\n",
      "Noise 1 RF 0.9544 PRF 0.953 PRF_TEST_ONLY 0.952 PRF_TRAIN_ONLY 0.9484\n",
      "Noise 2.5 RF 0.9002 PRF 0.9128 PRF_TEST_ONLY 0.9166 PRF_TRAIN_ONLY 0.9008\n",
      "Noise 5 RF 0.855 PRF 0.8846 PRF_TEST_ONLY 0.8928 PRF_TRAIN_ONLY 0.862\n",
      "Noise 8 RF 0.8274 PRF 0.8868 PRF_TEST_ONLY 0.882 PRF_TRAIN_ONLY 0.8378\n",
      "Noise 10 RF 0.808 PRF 0.8794 PRF_TEST_ONLY 0.8766 PRF_TRAIN_ONLY 0.832\n",
      "Noise 12 RF 0.8068 PRF 0.8676 PRF_TEST_ONLY 0.8772 PRF_TRAIN_ONLY 0.81\n",
      "Noise 14 RF 0.808 PRF 0.8748 PRF_TEST_ONLY 0.8684 PRF_TRAIN_ONLY 0.821\n",
      "Noise 16 RF 0.7902 PRF 0.8642 PRF_TEST_ONLY 0.8658 PRF_TRAIN_ONLY 0.8126\n",
      "Noise 18 RF 0.7866 PRF 0.8666 PRF_TEST_ONLY 0.8676 PRF_TRAIN_ONLY 0.7882\n",
      "Noise 20 RF 0.791 PRF 0.8572 PRF_TEST_ONLY 0.8588 PRF_TRAIN_ONLY 0.8122\n",
      "Noise 25 RF 0.7976 PRF 0.8656 PRF_TEST_ONLY 0.8556 PRF_TRAIN_ONLY 0.8062\n"
     ]
    }
   ],
   "source": [
    "#noise_in_features_vec =  [0.01, 1, 2, 6, 8, 10, 12]\n",
    "noise_in_features_vec = [0.01, 1, 2.5, 5, 8, 10]#[0.01, 1, 2.5, 5, 8, 10, 12, 14, 16, 18, 20, 25]#[0.01, 1, 10, 20, 30, 40, 50]\n",
    "\n",
    "n_trees = 50\n",
    "scores_RF = [] \n",
    "scores_PRF = [] \n",
    "scores_PRF_test_only = [] \n",
    "scores_PRF_train_only = [] \n",
    "\n",
    "for noise_in_features in noise_in_features_vec:\n",
    "    noise_in_labels = 0\n",
    "    X_tr, dX_tr, y_tr, pY_tr, fgo  = load_data.get_noised_data(X[obj_inds_train], \n",
    "                                                             dX_orig[obj_inds_train], \n",
    "                                                             y[obj_inds_train], \n",
    "                                                             sigma_mat_train[obj_inds_train], \n",
    "                                                             noise_in_labels, \n",
    "                                                             noise_in_features,\n",
    "                                                             dist = 'normal')\n",
    "\n",
    "    X_te, dX_te, y_te, pY_te, _  = load_data.get_noised_data(X[obj_inds_test], \n",
    "                                                             dX_orig[obj_inds_test], \n",
    "                                                             y[obj_inds_test], \n",
    "                                                             sigma_mat_test[obj_inds_test], \n",
    "                                                             0, \n",
    "                                                             noise_in_features,\n",
    "                                                             dist = 'normal')\n",
    "\n",
    "    prf = PRF.RandomForestClassifier(n_estimators=n_trees, max_features=n_features,\n",
    "                                                        use_py_gini=True, use_py_leafs=True)\n",
    "    prf.fit(X= X_tr,  y= y_tr, dX= dX_tr, py= pY_tr)\n",
    "    predict, proba = prf.predict(X=X_te, dX=dX_te)\n",
    "    scores_PRF += [(predict == y_te).sum()/len(predict)]\n",
    "    \n",
    "    prf_test_only = PRF.RandomForestClassifier(n_estimators=n_trees, max_features=n_features,\n",
    "                                                        use_py_gini=True, use_py_leafs=True)\n",
    "    prf_test_only.fit(X= X_tr,  y= y_tr, dX= numpy.zeros(dX_tr.shape), py= pY_tr)\n",
    "    predict, proba = prf_test_only.predict(X=X_te, dX=dX_te)\n",
    "    scores_PRF_test_only += [(predict == y_te).sum()/len(predict)]\n",
    "    \n",
    "    prf_train_only = PRF.RandomForestClassifier(n_estimators=n_trees, max_features=n_features,\n",
    "                                                        use_py_gini=True, use_py_leafs=True)\n",
    "    prf_train_only.fit(X= X_tr,  y= y_tr, dX= dX_tr, py= pY_tr)\n",
    "    predict, proba = prf_train_only.predict(X=X_te, dX=numpy.zeros(dX_te.shape))\n",
    "    scores_PRF_train_only += [(predict == y_te).sum()/len(predict)]\n",
    "\n",
    "\n",
    "    rf_sklean = sklearn.ensemble.RandomForestClassifier(n_estimators=n_trees, max_features=n_features, n_jobs = -1)\n",
    "    rf_sklean.fit(X_tr, y_tr)\n",
    "    score_RF = rf_sklean.score(X_te, y_te)\n",
    "    scores_RF += [score_RF]\n",
    "    print('Noise', noise_in_features, \n",
    "          'RF', scores_RF[-1], \n",
    "          'PRF', scores_PRF[-1], \n",
    "          'PRF_TEST_ONLY',  scores_PRF_test_only[-1],\n",
    "          'PRF_TRAIN_ONLY',  scores_PRF_train_only[-1] )"
   ]
  },
  {
   "cell_type": "code",
   "execution_count": null,
   "metadata": {},
   "outputs": [],
   "source": [
    "path = 'results/paper/noise_in_features_G/train_only_test_only_n_trees' + str(n_trees) +'_diff_test_train_v1'\n",
    "numpy.save(path, [scores_PRF, scores_RF, scores_PRF_train_only, scores_PRF_test_only, noise_in_features_vec])"
   ]
  },
  {
   "cell_type": "code",
   "execution_count": null,
   "metadata": {},
   "outputs": [],
   "source": []
  },
  {
   "cell_type": "code",
   "execution_count": 69,
   "metadata": {},
   "outputs": [
    {
     "name": "stdout",
     "output_type": "stream",
     "text": [
      "n_trees 1 ; noise 0.01 RF 0.8878 PRF 0.8546\n",
      "n_trees 1 ; noise 1 RF 0.8322 PRF 0.8818\n",
      "n_trees 1 ; noise 2.5 RF 0.768 PRF 0.8276\n",
      "n_trees 1 ; noise 5 RF 0.6508 PRF 0.7182\n",
      "n_trees 1 ; noise 8 RF 0.6842 PRF 0.7816\n",
      "n_trees 1 ; noise 10 RF 0.6014 PRF 0.7658\n",
      "n_trees 50 ; noise 0.01 RF 0.9636 PRF 0.961\n",
      "n_trees 50 ; noise 1 RF 0.9522 PRF 0.9496\n",
      "n_trees 50 ; noise 2.5 RF 0.8994 PRF 0.919\n",
      "n_trees 50 ; noise 5 RF 0.8394 PRF 0.8982\n",
      "n_trees 50 ; noise 8 RF 0.7974 PRF 0.8742\n",
      "n_trees 50 ; noise 10 RF 0.8124 PRF 0.8792\n",
      "n_trees 100 ; noise 0.01 RF 0.9644 PRF 0.9628\n",
      "n_trees 100 ; noise 1 RF 0.9518 PRF 0.9486\n",
      "n_trees 100 ; noise 2.5 RF 0.9032 PRF 0.9146\n",
      "n_trees 100 ; noise 5 RF 0.8542 PRF 0.9004\n",
      "n_trees 100 ; noise 8 RF 0.8196 PRF 0.8834\n",
      "n_trees 100 ; noise 10 RF 0.8194 PRF 0.873\n"
     ]
    }
   ],
   "source": [
    "noise_in_features_vec = [0.01, 1, 2.5, 5, 8, 10]\n",
    "n_tress_vec = [1, 50, 100]\n",
    "for n_trees in n_tress_vec:\n",
    "    scores_RF = [] \n",
    "    scores_PRF = [] \n",
    "\n",
    "    for noise_in_features in noise_in_features_vec:\n",
    "        noise_in_labels = 0\n",
    "        X_tr, dX_tr, y_tr, pY_tr, fgo  = load_data.get_noised_data(X[obj_inds_train], \n",
    "                                                                 dX_orig[obj_inds_train], \n",
    "                                                                 y[obj_inds_train], \n",
    "                                                                 sigma_mat_train[obj_inds_train], \n",
    "                                                                 noise_in_labels, \n",
    "                                                                 noise_in_features,\n",
    "                                                                 dist = 'normal')\n",
    "\n",
    "        X_te, dX_te, y_te, pY_te, _  = load_data.get_noised_data(X[obj_inds_test], \n",
    "                                                                 dX_orig[obj_inds_test], \n",
    "                                                                 y[obj_inds_test], \n",
    "                                                                 sigma_mat_test[obj_inds_test], \n",
    "                                                                 0, \n",
    "                                                                 noise_in_features,\n",
    "                                                                 dist = 'normal')\n",
    "        prf = PRF.RandomForestClassifier(n_estimators=n_trees, max_features=n_features,\n",
    "                                                            use_py_gini=True, use_py_leafs=True)\n",
    "        prf.fit(X= X_tr,  y= y_tr, dX= dX_tr, py= pY_tr)\n",
    "        predict, proba = prf.predict(X=X_te, dX=dX_te)\n",
    "        scores_PRF += [(predict == y_te).sum()/len(predict)]\n",
    "\n",
    "\n",
    "        rf_sklean = sklearn.ensemble.RandomForestClassifier(n_estimators=n_trees, max_features=n_features, n_jobs = -1)\n",
    "        rf_sklean.fit(X_tr, y_tr)\n",
    "        score_RF = rf_sklean.score(X_te, y_te)\n",
    "        scores_RF += [score_RF]\n",
    "        print('n_trees', n_trees, '; noise', noise_in_features, 'RF', scores_RF[-1], 'PRF', scores_PRF[-1]  )\n",
    "\n",
    "\n",
    "    path = 'results/paper/noise_in_features_G/n_trees_' + str(n_trees) + '_diff_test_train__'\n",
    "    numpy.save(path, [scores_PRF, scores_RF, noise_in_features_vec])"
   ]
  },
  {
   "cell_type": "markdown",
   "metadata": {},
   "source": [
    "# SNR"
   ]
  },
  {
   "cell_type": "code",
   "execution_count": 50,
   "metadata": {},
   "outputs": [],
   "source": [
    "from sklearn.datasets import  make_classification\n",
    "nof_objects_tot = 200000\n",
    "nof_features = 15\n",
    "X, y = make_classification(n_samples=nof_objects_tot, n_classes = 2, class_sep=1, shuffle=True, n_features=nof_features, n_informative=10,\n",
    "                           random_state=1, n_clusters_per_class=1, flip_y = 0)\n",
    "dX_orig = numpy.zeros([nof_objects_tot, nof_features])\n",
    "diff = abs(numpy.mean(X[y == 1], axis = 0) - numpy.mean(X[y == 0], axis = 0))\n"
   ]
  },
  {
   "cell_type": "code",
   "execution_count": 128,
   "metadata": {},
   "outputs": [
    {
     "name": "stdout",
     "output_type": "stream",
     "text": [
      "0.6581623333333333\n",
      "0.2936900553378791\n",
      "0.5000687961173155\n"
     ]
    }
   ],
   "source": [
    "sigma_mat = noise_data.bad_features_per_object_group_noise(nof_objects_tot, nof_features)\n",
    "print(numpy.mean(sigma_mat))\n",
    "sigma_mat = noise_data.random_random_noise(nof_objects_tot, nof_features)\n",
    "print(numpy.mean(sigma_mat))\n",
    "sigma_mat = noise_data.snp_noise(nof_objects_tot, nof_features)\n",
    "print(numpy.mean(sigma_mat))"
   ]
  },
  {
   "cell_type": "code",
   "execution_count": 76,
   "metadata": {},
   "outputs": [
    {
     "name": "stdout",
     "output_type": "stream",
     "text": [
      "0.01 [0.00151258 0.00155386]\n",
      "1 [0.15125815 0.15538608]\n",
      "2 [0.3025163  0.31077216]\n",
      "6 [0.90754891 0.93231647]\n",
      "8 [1.21006522 1.24308862]\n",
      "10 [1.51258152 1.55386078]\n",
      "12 [1.81509783 1.86463293]\n"
     ]
    }
   ],
   "source": [
    "reload(load_data)\n",
    "reload(noise_data)\n",
    "n_features = 'auto'\n",
    "## Train set\n",
    "n_objs = 5000\n",
    "noise_in_labels_train = 0\n",
    "noise_in_features_train = 0\n",
    "obj_inds = numpy.random.choice(numpy.arange(nof_objects_tot), n_objs*2)\n",
    "obj_inds_train = obj_inds[::2]\n",
    "obj_inds_test = obj_inds[1::2]\n",
    "sigma_mat = noise_data.bad_features_per_object_group_noise(nof_objects_tot, nof_features)\n",
    "\n",
    "\n",
    "\n",
    "noise_in_features_vec =  [0.01, 1, 2, 6, 8, 10, 12]\n",
    "n_trees = 50\n",
    "scores_RF = [] \n",
    "scores_PRF = [] \n",
    "scores_PRF_test_only = [] \n",
    "scores_PRF_train_only = [] \n",
    "\n",
    "for noise_in_features in noise_in_features_vec:\n",
    "    noise_in_labels = 0\n",
    "    X_tr, dX_tr, y_tr, pY_tr, fgo  = load_data.get_noised_data(X[obj_inds_train], \n",
    "                                                             dX_orig[obj_inds_train], \n",
    "                                                             y[obj_inds_train], \n",
    "                                                             sigma_mat[obj_inds_train], \n",
    "                                                             noise_in_labels, \n",
    "                                                             noise_in_features,\n",
    "                                                             dist = 'normal')\n",
    "\n",
    "    X_te, dX_te, y_te, pY_te, _  = load_data.get_noised_data(X[obj_inds_test], \n",
    "                                                             dX_orig[obj_inds_test], \n",
    "                                                             y[obj_inds_test], \n",
    "                                                             sigma_mat[obj_inds_test], \n",
    "                                                             0, \n",
    "                                                             noise_in_features,\n",
    "                                                             dist = 'normal')\n",
    "    diff = abs(numpy.mean(X_tr[y_tr == 1], axis = 0) - numpy.mean(X_tr[y_tr == 0], axis = 0))\n",
    "    stds = numpy.std(X[obj_inds_train], axis = 0)\n",
    "    maxes = numpy.max(X[obj_inds_train], axis = 0)\n",
    "    snr_f = numpy.zeros(nof_features)\n",
    "    for f in range(nof_features):\n",
    "        snr_f[f] =  numpy.median(dX_tr[:,f])/maxes[f]\n",
    "    print(noise_in_features, numpy.sort(snr_f[:2]))"
   ]
  },
  {
   "cell_type": "code",
   "execution_count": 57,
   "metadata": {},
   "outputs": [
    {
     "data": {
      "text/plain": [
       "array([13.21847169,  7.60541426, 25.55877997, 49.07488889, 33.43627528,\n",
       "        4.64607164,  4.36159983,  3.97967694,  4.41187489, 36.67819694,\n",
       "        5.06179169, 20.4752312 , 53.79343496, 17.77359282, 23.30905044])"
      ]
     },
     "execution_count": 57,
     "metadata": {},
     "output_type": "execute_result"
    }
   ],
   "source": []
  },
  {
   "cell_type": "code",
   "execution_count": 54,
   "metadata": {},
   "outputs": [
    {
     "name": "stdout",
     "output_type": "stream",
     "text": [
      "[1.64265609e+00 2.51036381e+00 5.18220185e-03 1.21978112e-03\n",
      " 4.94137051e-03]\n",
      "[1.16696135 2.60598812 0.33309902 0.04023252 0.45201284]\n"
     ]
    }
   ],
   "source": [
    "diff = abs(numpy.mean(X[y == 1], axis = 0) - numpy.mean(X[y == 0], axis = 0))\n",
    "print(diff[:5])\n",
    "diff = abs(numpy.mean(X_tr[y_tr == 1], axis = 0) - numpy.mean(X_tr[y_tr == 0], axis = 0))\n",
    "print(diff[:5])"
   ]
  },
  {
   "cell_type": "markdown",
   "metadata": {},
   "source": [
    "# salt and pepper noise"
   ]
  },
  {
   "cell_type": "code",
   "execution_count": 77,
   "metadata": {},
   "outputs": [],
   "source": [
    "from sklearn.datasets import  make_classification\n",
    "nof_objects_tot = 200000\n",
    "nof_features = 15\n",
    "X, y = make_classification(n_samples=nof_objects_tot, n_classes = 2, class_sep=1, shuffle=True, n_features=nof_features, n_informative=10,\n",
    "                           random_state=1, n_clusters_per_class=1, flip_y = 0)\n",
    "dX_orig = numpy.zeros([nof_objects_tot, nof_features])\n",
    "diff = abs(numpy.mean(X[y == 1], axis = 0) - numpy.mean(X[y == 0], axis = 0))\n"
   ]
  },
  {
   "cell_type": "code",
   "execution_count": 121,
   "metadata": {},
   "outputs": [],
   "source": [
    "reload(load_data)\n",
    "reload(noise_data)\n",
    "n_features = 'auto'\n",
    "## Train set\n",
    "n_objs = 5000\n",
    "noise_in_labels_train = 0\n",
    "noise_in_features_train = 0\n",
    "obj_inds = numpy.random.choice(numpy.arange(nof_objects_tot), n_objs*2)\n",
    "obj_inds_train = obj_inds[::2]\n",
    "obj_inds_test = obj_inds[1::2]\n",
    "sigma_mat = noise_data.snp_noise(nof_objects_tot, nof_features)\n",
    "cut = 0.4\n",
    "sigma_mat[sigma_mat > cut] = 1\n",
    "sigma_mat[sigma_mat < cut] = 0"
   ]
  },
  {
   "cell_type": "code",
   "execution_count": 122,
   "metadata": {},
   "outputs": [
    {
     "name": "stdout",
     "output_type": "stream",
     "text": [
      "Noise 0.01 RF 0.9622 PRF 0.9608 PRF_TEST_ONLY 0.962 PRF_TRAIN_ONLY 0.9634\n",
      "Noise 1 RF 0.918 PRF 0.9224 PRF_TEST_ONLY 0.922 PRF_TRAIN_ONLY 0.9152\n",
      "Noise 2.5 RF 0.8148 PRF 0.839 PRF_TEST_ONLY 0.8352 PRF_TRAIN_ONLY 0.8256\n",
      "Noise 5 RF 0.7486 PRF 0.7884 PRF_TEST_ONLY 0.7842 PRF_TRAIN_ONLY 0.7568\n",
      "Noise 8 RF 0.7096 PRF 0.7688 PRF_TEST_ONLY 0.7614 PRF_TRAIN_ONLY 0.7268\n",
      "Noise 10 RF 0.7048 PRF 0.7602 PRF_TEST_ONLY 0.7556 PRF_TRAIN_ONLY 0.7264\n",
      "Noise 12.5 RF 0.7026 PRF 0.7602 PRF_TEST_ONLY 0.7514 PRF_TRAIN_ONLY 0.7144\n",
      "Noise 15 RF 0.7088 PRF 0.7588 PRF_TEST_ONLY 0.7522 PRF_TRAIN_ONLY 0.7176\n",
      "Noise 20 RF 0.7078 PRF 0.7534 PRF_TEST_ONLY 0.7466 PRF_TRAIN_ONLY 0.7178\n"
     ]
    }
   ],
   "source": [
    "#noise_in_features_vec =  [0.01, 1, 2, 6, 8, 10, 12]\n",
    "noise_in_features_vec = [0.01, 1, 2.5, 5, 8, 10, 12.5, 15, 20]#[0.01, 1, 2.5, 5, 8, 10, 12, 14, 16, 18, 20, 25]#[0.01, 1, 10, 20, 30, 40, 50]\n",
    "\n",
    "n_trees = 50\n",
    "scores_RF = [] \n",
    "scores_PRF = [] \n",
    "scores_PRF_test_only = [] \n",
    "scores_PRF_train_only = [] \n",
    "\n",
    "for noise_in_features in noise_in_features_vec:\n",
    "    noise_in_labels = 0\n",
    "    X_tr, dX_tr, y_tr, pY_tr, fgo  = load_data.get_noised_data(X[obj_inds_train], \n",
    "                                                             dX_orig[obj_inds_train], \n",
    "                                                             y[obj_inds_train], \n",
    "                                                             sigma_mat[obj_inds_train], \n",
    "                                                             noise_in_labels, \n",
    "                                                             noise_in_features,\n",
    "                                                             dist = 'normal')\n",
    "\n",
    "    X_te, dX_te, y_te, pY_te, _  = load_data.get_noised_data(X[obj_inds_test], \n",
    "                                                             dX_orig[obj_inds_test], \n",
    "                                                             y[obj_inds_test], \n",
    "                                                             sigma_mat[obj_inds_test], \n",
    "                                                             0, \n",
    "                                                             noise_in_features,\n",
    "                                                             dist = 'normal')\n",
    "\n",
    "    prf = PRF.RandomForestClassifier(n_estimators=n_trees, max_features=n_features,\n",
    "                                                        use_py_gini=True, use_py_leafs=True)\n",
    "    prf.fit(X= X_tr,  y= y_tr, dX= dX_tr, py= pY_tr)\n",
    "    predict, proba = prf.predict(X=X_te, dX=dX_te)\n",
    "    scores_PRF += [(predict == y_te).sum()/len(predict)]\n",
    "    \n",
    "    prf_test_only = PRF.RandomForestClassifier(n_estimators=n_trees, max_features=n_features,\n",
    "                                                        use_py_gini=True, use_py_leafs=True)\n",
    "    prf_test_only.fit(X= X_tr,  y= y_tr, dX= numpy.zeros(dX_tr.shape), py= pY_tr)\n",
    "    predict, proba = prf_test_only.predict(X=X_te, dX=dX_te)\n",
    "    scores_PRF_test_only += [(predict == y_te).sum()/len(predict)]\n",
    "    \n",
    "    prf_train_only = PRF.RandomForestClassifier(n_estimators=n_trees, max_features=n_features,\n",
    "                                                        use_py_gini=True, use_py_leafs=True)\n",
    "    prf_train_only.fit(X= X_tr,  y= y_tr, dX= dX_tr, py= pY_tr)\n",
    "    predict, proba = prf_train_only.predict(X=X_te, dX=numpy.zeros(dX_te.shape))\n",
    "    scores_PRF_train_only += [(predict == y_te).sum()/len(predict)]\n",
    "\n",
    "\n",
    "    rf_sklean = sklearn.ensemble.RandomForestClassifier(n_estimators=n_trees, max_features=n_features, n_jobs = -1)\n",
    "    rf_sklean.fit(X_tr, y_tr)\n",
    "    score_RF = rf_sklean.score(X_te, y_te)\n",
    "    scores_RF += [score_RF]\n",
    "    print('Noise', noise_in_features, \n",
    "          'RF', scores_RF[-1], \n",
    "          'PRF', scores_PRF[-1], \n",
    "          'PRF_TEST_ONLY',  scores_PRF_test_only[-1],\n",
    "          'PRF_TRAIN_ONLY',  scores_PRF_train_only[-1] )"
   ]
  },
  {
   "cell_type": "code",
   "execution_count": 123,
   "metadata": {},
   "outputs": [
    {
     "data": {
      "text/plain": [
       "0.4"
      ]
     },
     "execution_count": 123,
     "metadata": {},
     "output_type": "execute_result"
    }
   ],
   "source": [
    "cut"
   ]
  },
  {
   "cell_type": "markdown",
   "metadata": {},
   "source": [
    "* No cut    - +5 at 64\n",
    "\n",
    "* cut = 0.3 - worse than cut = 0.5 ? (drops to 65 or so)\n",
    "* cut = 0.4 - Noise 10 RF 0.7048 PRF 0.7602 (and does not get lower)\n",
    "* cut = 0.5 - +5 at 80 (and does not get lower)\n",
    "* cut = 0.7 - Noise 20 RF 0.839 PRF 0.867 \n",
    "\n",
    " "
   ]
  },
  {
   "cell_type": "code",
   "execution_count": null,
   "metadata": {},
   "outputs": [],
   "source": [
    "import matplotlib.pyplot as plt"
   ]
  },
  {
   "cell_type": "code",
   "execution_count": 112,
   "metadata": {},
   "outputs": [
    {
     "data": {
      "image/png": "[encoded data removed]",
      "text/plain": [
       "<Figure size 720x504 with 1 Axes>"
      ]
     },
     "metadata": {},
     "output_type": "display_data"
    }
   ],
   "source": [
    "plt.figure(figsize = (10,7))\n",
    "plt.imshow(sigma_mat[:20], cmap = 'Greys')\n",
    "plt.xticks([])\n",
    "plt.yticks([])\n",
    "plt.ylabel('Objects', fontsize = 20)\n",
    "plt.xlabel('Features', fontsize = 20)\n",
    "plt.title('Noise matrix', fontsize = 20)\n",
    "#cb = plt.colorbar()\n",
    "#cb.set_label('Noise', fontsize = 20)\n",
    "#cb.set_ticks([0.9])\n",
    "#cb.set_ticklabels(['High'])\n",
    "plt.show()"
   ]
  },
  {
   "cell_type": "markdown",
   "metadata": {},
   "source": [
    "# Clean test set"
   ]
  },
  {
   "cell_type": "code",
   "execution_count": 124,
   "metadata": {},
   "outputs": [
    {
     "name": "stdout",
     "output_type": "stream",
     "text": [
      "Noise 0.01 RF 0.9672 PRF 0.959 PRF_TEST_ONLY 0.962 PRF_TRAIN_ONLY 0.9648\n",
      "Noise 1 RF 0.9508 PRF 0.9534 PRF_TEST_ONLY 0.95 PRF_TRAIN_ONLY 0.9498\n",
      "Noise 2.5 RF 0.9232 PRF 0.9314 PRF_TEST_ONLY 0.9216 PRF_TRAIN_ONLY 0.9316\n",
      "Noise 5 RF 0.9034 PRF 0.9096 PRF_TEST_ONLY 0.8986 PRF_TRAIN_ONLY 0.9118\n",
      "Noise 8 RF 0.8848 PRF 0.8932 PRF_TEST_ONLY 0.8788 PRF_TRAIN_ONLY 0.8986\n",
      "Noise 10 RF 0.8822 PRF 0.8966 PRF_TEST_ONLY 0.878 PRF_TRAIN_ONLY 0.8982\n",
      "Noise 12.5 RF 0.875 PRF 0.8884 PRF_TEST_ONLY 0.8788 PRF_TRAIN_ONLY 0.8906\n",
      "Noise 15 RF 0.8784 PRF 0.8908 PRF_TEST_ONLY 0.8726 PRF_TRAIN_ONLY 0.8874\n",
      "Noise 20 RF 0.8712 PRF 0.8866 PRF_TEST_ONLY 0.8682 PRF_TRAIN_ONLY 0.8928\n"
     ]
    }
   ],
   "source": [
    "#noise_in_features_vec =  [0.01, 1, 2, 6, 8, 10, 12]\n",
    "noise_in_features_vec = [0.01, 1, 2.5, 5, 8, 10, 12.5, 15, 20]#[0.01, 1, 2.5, 5, 8, 10, 12, 14, 16, 18, 20, 25]#[0.01, 1, 10, 20, 30, 40, 50]\n",
    "\n",
    "n_trees = 50\n",
    "scores_RF = [] \n",
    "scores_PRF = [] \n",
    "scores_PRF_test_only = [] \n",
    "scores_PRF_train_only = [] \n",
    "\n",
    "for noise_in_features in noise_in_features_vec:\n",
    "    noise_in_labels = 0\n",
    "    X_tr, dX_tr, y_tr, pY_tr, fgo  = load_data.get_noised_data(X[obj_inds_train], \n",
    "                                                             dX_orig[obj_inds_train], \n",
    "                                                             y[obj_inds_train], \n",
    "                                                             sigma_mat[obj_inds_train], \n",
    "                                                             noise_in_labels, \n",
    "                                                             noise_in_features,\n",
    "                                                             dist = 'normal')\n",
    "\n",
    "    X_te, dX_te, y_te, pY_te, _  = load_data.get_noised_data(X[obj_inds_test], \n",
    "                                                             dX_orig[obj_inds_test], \n",
    "                                                             y[obj_inds_test], \n",
    "                                                             sigma_mat[obj_inds_test], \n",
    "                                                             0, \n",
    "                                                             0,\n",
    "                                                             dist = 'normal')\n",
    "\n",
    "    prf = PRF.RandomForestClassifier(n_estimators=n_trees, max_features=n_features,\n",
    "                                                        use_py_gini=True, use_py_leafs=True)\n",
    "    prf.fit(X= X_tr,  y= y_tr, dX= dX_tr, py= pY_tr)\n",
    "    predict, proba = prf.predict(X=X_te, dX=dX_te)\n",
    "    scores_PRF += [(predict == y_te).sum()/len(predict)]\n",
    "    \n",
    "    prf_test_only = PRF.RandomForestClassifier(n_estimators=n_trees, max_features=n_features,\n",
    "                                                        use_py_gini=True, use_py_leafs=True)\n",
    "    prf_test_only.fit(X= X_tr,  y= y_tr, dX= numpy.zeros(dX_tr.shape), py= pY_tr)\n",
    "    predict, proba = prf_test_only.predict(X=X_te, dX=dX_te)\n",
    "    scores_PRF_test_only += [(predict == y_te).sum()/len(predict)]\n",
    "    \n",
    "    prf_train_only = PRF.RandomForestClassifier(n_estimators=n_trees, max_features=n_features,\n",
    "                                                        use_py_gini=True, use_py_leafs=True)\n",
    "    prf_train_only.fit(X= X_tr,  y= y_tr, dX= dX_tr, py= pY_tr)\n",
    "    predict, proba = prf_train_only.predict(X=X_te, dX=numpy.zeros(dX_te.shape))\n",
    "    scores_PRF_train_only += [(predict == y_te).sum()/len(predict)]\n",
    "\n",
    "\n",
    "    rf_sklean = sklearn.ensemble.RandomForestClassifier(n_estimators=n_trees, max_features=n_features, n_jobs = -1)\n",
    "    rf_sklean.fit(X_tr, y_tr)\n",
    "    score_RF = rf_sklean.score(X_te, y_te)\n",
    "    scores_RF += [score_RF]\n",
    "    print('Noise', noise_in_features, \n",
    "          'RF', scores_RF[-1], \n",
    "          'PRF', scores_PRF[-1], \n",
    "          'PRF_TEST_ONLY',  scores_PRF_test_only[-1],\n",
    "          'PRF_TRAIN_ONLY',  scores_PRF_train_only[-1] )"
   ]
  },
  {
   "cell_type": "code",
   "execution_count": null,
   "metadata": {},
   "outputs": [],
   "source": []
  },
  {
   "cell_type": "markdown",
   "metadata": {},
   "source": [
    "# Clean train set"
   ]
  },
  {
   "cell_type": "code",
   "execution_count": 125,
   "metadata": {},
   "outputs": [
    {
     "name": "stdout",
     "output_type": "stream",
     "text": [
      "Noise 0.01 RF 0.967 PRF 0.9594 PRF_TEST_ONLY 0.961 PRF_TRAIN_ONLY 0.962\n",
      "Noise 1 RF 0.9312 PRF 0.9324 PRF_TEST_ONLY 0.9316 PRF_TRAIN_ONLY 0.9268\n",
      "Noise 2.5 RF 0.8174 PRF 0.843 PRF_TEST_ONLY 0.8434 PRF_TRAIN_ONLY 0.8206\n",
      "Noise 5 RF 0.7242 PRF 0.7736 PRF_TEST_ONLY 0.7726 PRF_TRAIN_ONLY 0.7458\n",
      "Noise 8 RF 0.677 PRF 0.7402 PRF_TEST_ONLY 0.7318 PRF_TRAIN_ONLY 0.6858\n",
      "Noise 10 RF 0.6748 PRF 0.7294 PRF_TEST_ONLY 0.7312 PRF_TRAIN_ONLY 0.6888\n",
      "Noise 12.5 RF 0.6616 PRF 0.7232 PRF_TEST_ONLY 0.7192 PRF_TRAIN_ONLY 0.6732\n",
      "Noise 15 RF 0.641 PRF 0.6984 PRF_TEST_ONLY 0.7072 PRF_TRAIN_ONLY 0.6588\n",
      "Noise 20 RF 0.6338 PRF 0.703 PRF_TEST_ONLY 0.698 PRF_TRAIN_ONLY 0.6476\n"
     ]
    }
   ],
   "source": [
    "#noise_in_features_vec =  [0.01, 1, 2, 6, 8, 10, 12]\n",
    "noise_in_features_vec = [0.01, 1, 2.5, 5, 8, 10, 12.5, 15, 20]#[0.01, 1, 2.5, 5, 8, 10, 12, 14, 16, 18, 20, 25]#[0.01, 1, 10, 20, 30, 40, 50]\n",
    "\n",
    "n_trees = 50\n",
    "scores_RF = [] \n",
    "scores_PRF = [] \n",
    "scores_PRF_test_only = [] \n",
    "scores_PRF_train_only = [] \n",
    "\n",
    "for noise_in_features in noise_in_features_vec:\n",
    "    noise_in_labels = 0\n",
    "    X_tr, dX_tr, y_tr, pY_tr, fgo  = load_data.get_noised_data(X[obj_inds_train], \n",
    "                                                             dX_orig[obj_inds_train], \n",
    "                                                             y[obj_inds_train], \n",
    "                                                             sigma_mat[obj_inds_train], \n",
    "                                                             noise_in_labels, \n",
    "                                                             0,\n",
    "                                                             dist = 'normal')\n",
    "\n",
    "    X_te, dX_te, y_te, pY_te, _  = load_data.get_noised_data(X[obj_inds_test], \n",
    "                                                             dX_orig[obj_inds_test], \n",
    "                                                             y[obj_inds_test], \n",
    "                                                             sigma_mat[obj_inds_test], \n",
    "                                                             0, \n",
    "                                                             noise_in_features,\n",
    "                                                             dist = 'normal')\n",
    "\n",
    "    prf = PRF.RandomForestClassifier(n_estimators=n_trees, max_features=n_features,\n",
    "                                                        use_py_gini=True, use_py_leafs=True)\n",
    "    prf.fit(X= X_tr,  y= y_tr, dX= dX_tr, py= pY_tr)\n",
    "    predict, proba = prf.predict(X=X_te, dX=dX_te)\n",
    "    scores_PRF += [(predict == y_te).sum()/len(predict)]\n",
    "    \n",
    "    prf_test_only = PRF.RandomForestClassifier(n_estimators=n_trees, max_features=n_features,\n",
    "                                                        use_py_gini=True, use_py_leafs=True)\n",
    "    prf_test_only.fit(X= X_tr,  y= y_tr, dX= numpy.zeros(dX_tr.shape), py= pY_tr)\n",
    "    predict, proba = prf_test_only.predict(X=X_te, dX=dX_te)\n",
    "    scores_PRF_test_only += [(predict == y_te).sum()/len(predict)]\n",
    "    \n",
    "    prf_train_only = PRF.RandomForestClassifier(n_estimators=n_trees, max_features=n_features,\n",
    "                                                        use_py_gini=True, use_py_leafs=True)\n",
    "    prf_train_only.fit(X= X_tr,  y= y_tr, dX= dX_tr, py= pY_tr)\n",
    "    predict, proba = prf_train_only.predict(X=X_te, dX=numpy.zeros(dX_te.shape))\n",
    "    scores_PRF_train_only += [(predict == y_te).sum()/len(predict)]\n",
    "\n",
    "\n",
    "    rf_sklean = sklearn.ensemble.RandomForestClassifier(n_estimators=n_trees, max_features=n_features, n_jobs = -1)\n",
    "    rf_sklean.fit(X_tr, y_tr)\n",
    "    score_RF = rf_sklean.score(X_te, y_te)\n",
    "    scores_RF += [score_RF]\n",
    "    print('Noise', noise_in_features, \n",
    "          'RF', scores_RF[-1], \n",
    "          'PRF', scores_PRF[-1], \n",
    "          'PRF_TEST_ONLY',  scores_PRF_test_only[-1],\n",
    "          'PRF_TRAIN_ONLY',  scores_PRF_train_only[-1] )"
   ]
  },
  {
   "cell_type": "code",
   "execution_count": null,
   "metadata": {},
   "outputs": [],
   "source": []
  }
 ],
 "metadata": {
  "kernelspec": {
   "display_name": "Python 3",
   "language": "python",
   "name": "python3"
  },
  "language_info": {
   "codemirror_mode": {
    "name": "ipython",
    "version": 3
   },
   "file_extension": ".py",
   "mimetype": "text/x-python",
   "name": "python",
   "nbconvert_exporter": "python",
   "pygments_lexer": "ipython3",
   "version": "3.6.2"
  }
 },
 "nbformat": 4,
 "nbformat_minor": 2
}
