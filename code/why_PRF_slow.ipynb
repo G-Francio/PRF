{
 "cells": [
  {
   "cell_type": "code",
   "execution_count": null,
   "metadata": {},
   "outputs": [
    {
     "name": "stdout",
     "output_type": "stream",
     "text": [
      "The line_profiler extension is already loaded. To reload it, use:\n",
      "  %reload_ext line_profiler\n",
      "env: NUMBA_DISABLE_JIT=1\n"
     ]
    }
   ],
   "source": [
    "# Random\n",
    "from PRF import prf\n",
    "from PRF.PRF import DecisionTreeClassifier\n",
    "from PRF import tree\n",
    "\n",
    "%load_ext line_profiler"
   ]
  },
  {
   "cell_type": "code",
   "execution_count": 18,
   "metadata": {},
   "outputs": [],
   "source": [
    "from sklearn import datasets\n",
    "\n",
    "iris = datasets.load_iris()\n",
    "X_iris = (\n",
    "    iris.data\n",
    ")  # don't really care about errors in this case, or flags for that matter\n",
    "y_iris = iris.target"
   ]
  },
  {
   "cell_type": "code",
   "execution_count": 25,
   "metadata": {},
   "outputs": [
    {
     "name": "stderr",
     "output_type": "stream",
     "text": [
      "100%|██████████| 15000/15000 [00:00<00:00, 30156.39it/s]\n"
     ]
    },
    {
     "name": "stdout",
     "output_type": "stream",
     "text": [
      "Timer unit: 1e-09 s\n",
      "\n",
      "Total time: 0.23776 s\n",
      "File: /Users/francesco/uvp/PRF/PRF/tree.py\n",
      "Function: predict_single at line 339\n",
      "\n",
      "Line #      Hits         Time  Per Hit   % Time  Line Contents\n",
      "==============================================================\n",
      "   339                                           def predict_single(\n",
      "   340                                               node_tree_results,\n",
      "   341                                               node_feature_idx,\n",
      "   342                                               node_feature_th,\n",
      "   343                                               node_true_branch,\n",
      "   344                                               node_false_branch,\n",
      "   345                                               node_p_right,\n",
      "   346                                               x,\n",
      "   347                                               dx,\n",
      "   348                                               flag,\n",
      "   349                                               curr_node,\n",
      "   350                                               keep_proba,\n",
      "   351                                               p_tree=1.0,\n",
      "   352                                               is_max=True,\n",
      "   353                                               return_leafs=False,\n",
      "   354                                           ):\n",
      "   355                                               \"\"\"\n",
      "   356                                               function classifies a single object according to the trained tree\n",
      "   357                                               \"\"\"\n",
      "   358     55652    5409000.0     97.2      2.3      node = curr_node\n",
      "   359     55652    9574000.0    172.0      4.0      tree_results = node_tree_results[curr_node]\n",
      "   360     55652    7051000.0    126.7      3.0      tree_feature_index = node_feature_idx[curr_node]\n",
      "   361     55652    6437000.0    115.7      2.7      tree_feature_th = node_feature_th[curr_node]\n",
      "   362     55652    6154000.0    110.6      2.6      true_branch_node = node_true_branch[curr_node]\n",
      "   363     55652    6335000.0    113.8      2.7      false_branch_node = node_false_branch[curr_node]\n",
      "   364     55652    6426000.0    115.5      2.7      p_right_node = node_p_right[curr_node]\n",
      "   365                                           \n",
      "   366     55652    5589000.0    100.4      2.4      nof_classes = len(tree_results)\n",
      "   367                                           \n",
      "   368     55652    8097000.0    145.5      3.4      if tree_results[0] >= 0:\n",
      "   369     15000    1319000.0     87.9      0.6          if return_leafs:\n",
      "   370                                                       summed_prediction = tree_results * 0 + node\n",
      "   371                                                   else:\n",
      "   372     15000    9444000.0    629.6      4.0              summed_prediction = tree_results * p_tree\n",
      "   373                                               else:\n",
      "   374     40652    8323000.0    204.7      3.5          summed_prediction = np.zeros(nof_classes)\n",
      "   375     40652    3725000.0     91.6      1.6          if is_max:\n",
      "   376     40652    5009000.0    123.2      2.1              val = x[tree_feature_index]\n",
      "   377     40652    4691000.0    115.4      2.0              delta = dx[tree_feature_index]\n",
      "   378     40652    4381000.0    107.8      1.8              current_flag = flag[tree_feature_index]\n",
      "   379     40652   13376000.0    329.0      5.6              p_split = m.split_probability(val, delta, current_flag, tree_feature_th)\n",
      "   380     40652   19072000.0    469.2      8.0              if np.isnan(p_split):\n",
      "   381                                                           p_split = p_right_node\n",
      "   382                                           \n",
      "   383     40652    3937000.0     96.8      1.7              p_true = p_tree * p_split\n",
      "   384     40652    4689000.0    115.3      2.0              p_false = p_tree * (1 - p_split)\n",
      "   385                                           \n",
      "   386     40652    3118000.0     76.7      1.3              is_max_true = True\n",
      "   387     40652    3242000.0     79.8      1.4              is_max_false = False\n",
      "   388     40652    3792000.0     93.3      1.6              if p_split <= 0.5:\n",
      "   389     18470    1468000.0     79.5      0.6                  is_max_true = False\n",
      "   390     18470    1515000.0     82.0      0.6                  is_max_false = True\n",
      "   391                                           \n",
      "   392     40652    4917000.0    121.0      2.1              if (p_true > keep_proba) or is_max_true:\n",
      "   393     44364    6729000.0    151.7      2.8                  summed_prediction += predict_single(\n",
      "   394     22182    1684000.0     75.9      0.7                      node_tree_results,\n",
      "   395     22182    1616000.0     72.9      0.7                      node_feature_idx,\n",
      "   396     22182    1614000.0     72.8      0.7                      node_feature_th,\n",
      "   397     22182    1511000.0     68.1      0.6                      node_true_branch,\n",
      "   398     22182    1567000.0     70.6      0.7                      node_false_branch,\n",
      "   399     22182    1577000.0     71.1      0.7                      node_p_right,\n",
      "   400     22182    1624000.0     73.2      0.7                      x,\n",
      "   401     22182    1636000.0     73.8      0.7                      dx,\n",
      "   402     22182    1613000.0     72.7      0.7                      flag,\n",
      "   403     22182    1623000.0     73.2      0.7                      true_branch_node,\n",
      "   404     22182    1590000.0     71.7      0.7                      keep_proba,\n",
      "   405     22182    1621000.0     73.1      0.7                      p_true,\n",
      "   406     22182    1803000.0     81.3      0.8                      is_max_true,\n",
      "   407     22182    1673000.0     75.4      0.7                      return_leafs,\n",
      "   408                                                           )\n",
      "   409                                           \n",
      "   410     40652    3505000.0     86.2      1.5              if (p_false > keep_proba) or is_max_false:\n",
      "   411     36940    5535000.0    149.8      2.3                  summed_prediction += predict_single(\n",
      "   412     18470    1506000.0     81.5      0.6                      node_tree_results,\n",
      "   413     18470    1355000.0     73.4      0.6                      node_feature_idx,\n",
      "   414     18470    1302000.0     70.5      0.5                      node_feature_th,\n",
      "   415     18470    1316000.0     71.3      0.6                      node_true_branch,\n",
      "   416     18470    1340000.0     72.6      0.6                      node_false_branch,\n",
      "   417     18470    1333000.0     72.2      0.6                      node_p_right,\n",
      "   418     18470    1288000.0     69.7      0.5                      x,\n",
      "   419     18470    1318000.0     71.4      0.6                      dx,\n",
      "   420     18470    1359000.0     73.6      0.6                      flag,\n",
      "   421     18470    1320000.0     71.5      0.6                      false_branch_node,\n",
      "   422     18470    1375000.0     74.4      0.6                      keep_proba,\n",
      "   423     18470    1259000.0     68.2      0.5                      p_false,\n",
      "   424     18470    1501000.0     81.3      0.6                      is_max_false,\n",
      "   425     18470    1453000.0     78.7      0.6                      return_leafs,\n",
      "   426                                                           )\n",
      "   427                                           \n",
      "   428                                                   else:\n",
      "   429                                                       is_max_true = False\n",
      "   430                                                       is_max_false = False\n",
      "   431                                                       val = x[tree_feature_index]\n",
      "   432                                                       delta = dx[tree_feature_index]\n",
      "   433                                                       current_flag = flag[tree_feature_index]\n",
      "   434                                                       p_split = m.split_probability(val, delta, current_flag, tree_feature_th)\n",
      "   435                                           \n",
      "   436                                                       if np.isnan(p_split):\n",
      "   437                                                           p_split = p_right_node\n",
      "   438                                           \n",
      "   439                                                       p_true = p_tree * p_split\n",
      "   440                                                       p_false = p_tree * (1 - p_split)\n",
      "   441                                           \n",
      "   442                                                       if p_true > keep_proba:\n",
      "   443                                                           summed_prediction += predict_single(\n",
      "   444                                                               node_tree_results,\n",
      "   445                                                               node_feature_idx,\n",
      "   446                                                               node_feature_th,\n",
      "   447                                                               node_true_branch,\n",
      "   448                                                               node_false_branch,\n",
      "   449                                                               node_p_right,\n",
      "   450                                                               x,\n",
      "   451                                                               dx,\n",
      "   452                                                               flag,\n",
      "   453                                                               true_branch_node,\n",
      "   454                                                               keep_proba,\n",
      "   455                                                               p_true,\n",
      "   456                                                               is_max_true,\n",
      "   457                                                               return_leafs,\n",
      "   458                                                           )\n",
      "   459                                           \n",
      "   460                                                       if p_false > keep_proba:\n",
      "   461                                                           summed_prediction += predict_single(\n",
      "   462                                                               node_tree_results,\n",
      "   463                                                               node_feature_idx,\n",
      "   464                                                               node_feature_th,\n",
      "   465                                                               node_true_branch,\n",
      "   466                                                               node_false_branch,\n",
      "   467                                                               node_p_right,\n",
      "   468                                                               x,\n",
      "   469                                                               dx,\n",
      "   470                                                               flag,\n",
      "   471                                                               false_branch_node,\n",
      "   472                                                               keep_proba,\n",
      "   473                                                               p_false,\n",
      "   474                                                               is_max_false,\n",
      "   475                                                               return_leafs,\n",
      "   476                                                           )\n",
      "   477                                           \n",
      "   478     55652   23124000.0    415.5      9.7      return summed_prediction"
     ]
    }
   ],
   "source": [
    "%lprun -f tree.predict_single prf_iris.predict(X=X_iris)"
   ]
  },
  {
   "cell_type": "code",
   "execution_count": 3,
   "metadata": {},
   "outputs": [
    {
     "name": "stderr",
     "output_type": "stream",
     "text": [
      "100%|██████████| 100/100 [00:03<00:00, 32.43it/s]\n",
      "100%|██████████| 15000/15000 [00:00<00:00, 36271.42it/s]\n",
      "100%|██████████| 15000/15000 [00:00<00:00, 455249.42it/s]\n"
     ]
    }
   ],
   "source": [
    "# Don't really care about splitting either to be honest, I am just checking that everything works the way it's supposed to\n",
    "prf_iris = prf(n_estimators=100, bootstrap=True, keep_proba=0.05, max_depth=15)\n",
    "\n",
    "prf_iris.fit(X=X_iris, y=y_iris)\n",
    "\n",
    "prf_proba = prf_iris.predict_proba(X=X_iris)\n",
    "prf_class = prf_iris.predict(X=X_iris)"
   ]
  },
  {
   "cell_type": "code",
   "execution_count": null,
   "metadata": {},
   "outputs": [],
   "source": []
  }
 ],
 "metadata": {
  "kernelspec": {
   "display_name": ".venv",
   "language": "python",
   "name": "python3"
  },
  "language_info": {
   "codemirror_mode": {
    "name": "ipython",
    "version": 3
   },
   "file_extension": ".py",
   "mimetype": "text/x-python",
   "name": "python",
   "nbconvert_exporter": "python",
   "pygments_lexer": "ipython3",
   "version": "3.13.1"
  }
 },
 "nbformat": 4,
 "nbformat_minor": 2
}
